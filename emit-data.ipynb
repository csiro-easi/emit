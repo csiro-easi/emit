{
 "cells": [
  {
   "cell_type": "code",
   "execution_count": null,
   "id": "07adeb67-e4e3-481f-b54b-cef5c3028ac9",
   "metadata": {
    "tags": []
   },
   "outputs": [],
   "source": [
    "from tqdm.auto import tqdm\n",
    "\n",
    "from utils.emit import ortho_gbox\n",
    "from utils.txt import from_njson"
   ]
  },
  {
   "cell_type": "code",
   "execution_count": null,
   "id": "1eb32ba8-0fdf-414e-a3d0-06558bbfd9e8",
   "metadata": {
    "tags": []
   },
   "outputs": [],
   "source": [
    "docs = list(tqdm(from_njson(\"Data/emit-zarr-meta.njson.gz\")))"
   ]
  },
  {
   "cell_type": "code",
   "execution_count": null,
   "id": "0794d207-7a0f-459b-9b33-5cfb78f9353d",
   "metadata": {
    "tags": []
   },
   "outputs": [],
   "source": [
    "doc = docs[300]\n",
    "url = doc[\"url\"].rsplit(\".\", 1)[0]\n",
    "zz = doc[\"zarr\"]\n",
    "url, list(zz[\".zattrs\"]), list(zz)"
   ]
  },
  {
   "cell_type": "code",
   "execution_count": null,
   "id": "332cd52f-3a50-48b2-a78f-500f0336ca7e",
   "metadata": {
    "tags": []
   },
   "outputs": [],
   "source": [
    "props_keep = [\n",
    "    \"sensor\",\n",
    "    \"instrument\",\n",
    "    \"platform\",\n",
    "    \"date_created\",\n",
    "    \"flight_line\",\n",
    "    \"time_coverage_start\",\n",
    "    \"time_coverage_end\",\n",
    "    \"crosstrack_orientation\",\n",
    "    \"spatialResolution\",\n",
    "    \"spatial_ref\",\n",
    "    \"geotransform\",\n",
    "    \"day_night_flag\",\n",
    "]\n",
    "\n",
    "bbox_keys = [\n",
    "    \"westernmost_longitude\",\n",
    "    \"southernmost_latitude\",\n",
    "    \"easternmost_longitude\",\n",
    "    \"northernmost_latitude\",\n",
    "]\n",
    "\n",
    "renames = {\n",
    "    \"time_coverage_start\": \"start_datetime\",\n",
    "    \"time_coverage_end\": \"end_datetime\",\n",
    "    \"spatialResolution\": \"gsd\",\n",
    "}\n",
    "\n",
    "\n",
    "def extract_md(doc):\n",
    "    url = doc[\"url\"].rsplit(\".\", 1)[0]\n",
    "    zz = doc[\"zarr\"]\n",
    "    attrs = zz[\".zattrs\"]\n",
    "    props = {renames.get(k, k): attrs[k] for k in props_keep}\n",
    "    bbox = [attrs[k] for k in bbox_keys]\n",
    "\n",
    "    h, w, b = zz[\"reflectance/.zarray\"][\"shape\"]\n",
    "    props.update(\n",
    "        width=w,\n",
    "        height=h,\n",
    "        nbands=b,\n",
    "        datetime=props[\"start_datetime\"],\n",
    "    )\n",
    "    props[\"proj:epsg\"] = 4326\n",
    "\n",
    "    return {\"href\": url, \"bbox\": bbox, \"properties\": props}\n",
    "\n",
    "\n",
    "extract_md(doc)"
   ]
  },
  {
   "cell_type": "code",
   "execution_count": null,
   "id": "0ed43b62-92ab-4023-9584-a0ea9bbd1524",
   "metadata": {
    "tags": []
   },
   "outputs": [],
   "source": [
    "ortho_gbox(doc[\"zarr\"])"
   ]
  },
  {
   "cell_type": "code",
   "execution_count": null,
   "id": "dacd1f75-d3ae-4e86-bc08-9b84990d8baf",
   "metadata": {
    "tags": []
   },
   "outputs": [],
   "source": [
    "zz"
   ]
  },
  {
   "cell_type": "code",
   "execution_count": null,
   "id": "75079e5d-e56f-4d58-9bdb-c8235c6f8712",
   "metadata": {
    "tags": []
   },
   "outputs": [],
   "source": [
    "%%bash\n",
    "\n",
    "source .env\n",
    "\n",
    "curl -H \"Authorization: Bearer $EARTHDATA_TOKEN\" \\\n",
    "  \"https://data.lpdaac.earthdatacloud.nasa.gov/s3credentials\" -o s3_creds.json\n",
    "\n",
    "#hash jq && jq . < s3_creds.json"
   ]
  },
  {
   "cell_type": "code",
   "execution_count": null,
   "id": "e7ae7709-a6d4-40f1-a882-f12c3fbb4939",
   "metadata": {
    "tags": []
   },
   "outputs": [],
   "source": [
    "!jq . s3_creds.json"
   ]
  },
  {
   "cell_type": "code",
   "execution_count": null,
   "id": "0aa62bbc-1cad-4d16-adf7-86f33e234597",
   "metadata": {
    "tags": []
   },
   "outputs": [],
   "source": [
    "%%bash\n",
    "\n",
    "source .env\n",
    "\n",
    "prod=\"https://data.lpdaac.earthdatacloud.nasa.gov/lp-prod-protected/EMITL2ARFL.001\"\n",
    "granule=\"EMIT_L2A_RFL_001_20230531T133036_2315109_002/EMIT_L2A_RFL_001_20230531T133036_2315109_002.nc\"\n",
    "outfile=\"${granule##*/}\"\n",
    "url=\"${prod}/${granule}\"\n",
    "printf \"url: %s\\nout: %s\\ntk: %s...\\n\\n\" $url $outfile ${EARTHDATA_TOKEN:0:8}\n",
    "\n",
    "curl -v -H \"Authorization: Bearer $EARTHDATA_TOKEN\" $url "
   ]
  },
  {
   "cell_type": "code",
   "execution_count": null,
   "id": "d8cd73df-1bff-4579-af1f-7d8c7b1b4293",
   "metadata": {
    "tags": []
   },
   "outputs": [],
   "source": [
    "%%bash\n",
    "\n",
    "source .env\n",
    "\n",
    "prod=\"https://data.lpdaac.earthdatacloud.nasa.gov/lp-prod-protected/EMITL2ARFL.001\"\n",
    "granule=\"EMIT_L2A_RFL_001_20230531T133036_2315109_002/EMIT_L2A_RFL_001_20230531T133036_2315109_002.nc\"\n",
    "outfile=\"${granule##*/}\"\n",
    "url=\"${prod}/${granule}\"\n",
    "printf \"url: %s\\nout: %s\\ntk: %s...\\n\\n\" $url $outfile ${EARTHDATA_TOKEN:0:8}\n",
    "\n",
    "echo curl -L -H \"Authorization: Bearer $EARTHDATA_TOKEN\" $url -o $outfile"
   ]
  },
  {
   "cell_type": "code",
   "execution_count": null,
   "id": "805281cf-4ba4-44e1-a8cf-2119b496e0ad",
   "metadata": {},
   "outputs": [],
   "source": []
  }
 ],
 "metadata": {
  "kernelspec": {
   "display_name": "KK",
   "language": "python",
   "name": "kk"
  },
  "language_info": {
   "codemirror_mode": {
    "name": "ipython",
    "version": 3
   },
   "file_extension": ".py",
   "mimetype": "text/x-python",
   "name": "python",
   "nbconvert_exporter": "python",
   "pygments_lexer": "ipython3",
   "version": "3.10.12"
  }
 },
 "nbformat": 4,
 "nbformat_minor": 5
}
