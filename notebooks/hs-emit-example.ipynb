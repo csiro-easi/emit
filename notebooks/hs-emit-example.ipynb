{
 "cells": [
  {
   "cell_type": "markdown",
   "id": "24e82ac8-c1ad-4097-a0cf-0a1401fcef0c",
   "metadata": {},
   "source": [
    "## Setup\n",
    "\n",
    "Obtain earth-data access token from [https://urs.earthdata.nasa.gov/](https://urs.earthdata.nasa.gov/). Save it to `earth-data.tk`.\n",
    "\n",
    "```bash\n",
    "echo \"Paste token below, then press Ctrl-D\"\n",
    "cat | install -m 600 /dev/stdin earth-data.tk\n",
    "```\n",
    "\n",
    "Run script:\n",
    "\n",
    "```bash\n",
    "env EARTHDATA_TOKEN=\"$(cat earth-data.tk)\" ./setup-py-env.sh\n",
    "```\n",
    "This will:\n",
    "\n",
    "1. Create `emit` environment\n",
    "2. Register with jupyter (with extra environment variables)\n",
    "3. Install packages\n",
    "\n",
    "Data:\n",
    "- `Data/emit-stac.zip`\n"
   ]
  },
  {
   "cell_type": "code",
   "execution_count": null,
   "id": "43f66d16-477b-4dd1-84d5-889f52e6252a",
   "metadata": {
    "tags": []
   },
   "outputs": [],
   "source": [
    "from odc.emit import dump_py_env\n",
    "\n",
    "dump_py_env()"
   ]
  },
  {
   "cell_type": "markdown",
   "id": "b5575d44-1091-461b-b571-46798754897a",
   "metadata": {},
   "source": [
    "## Dask Client\n",
    "\n",
    "Dask is optional, for small area loads there is little benefit for using it."
   ]
  },
  {
   "cell_type": "code",
   "execution_count": null,
   "id": "48ed60c9-01a3-4b89-b71c-15811f02e28d",
   "metadata": {
    "tags": []
   },
   "outputs": [],
   "source": [
    "import numpy as np\n",
    "import xarray as xr\n",
    "from dask import is_dask_collection\n",
    "from distributed import Client\n",
    "from distributed import wait as dask_wait\n",
    "from matplotlib import pyplot as plt\n",
    "from tqdm.auto import tqdm\n",
    "\n",
    "if False:\n",
    "    client = Client(n_workers=1, threads_per_worker=None)\n",
    "    display(client)"
   ]
  },
  {
   "cell_type": "markdown",
   "id": "dea84cb7-d0e3-484d-b65e-098799a37625",
   "metadata": {
    "tags": []
   },
   "source": [
    "## Define work site"
   ]
  },
  {
   "cell_type": "code",
   "execution_count": null,
   "id": "d283ef90-dd7f-431b-8801-04682580a4fa",
   "metadata": {
    "tags": []
   },
   "outputs": [],
   "source": [
    "from odc.geo import geom\n",
    "from odc.stac import load as stac_load\n",
    "\n",
    "sites = {\n",
    "    \"water\": (147.05606946302976, -36.181539226879686),\n",
    "    \"park\": (147.06574717098573, -36.218560534046865),\n",
    "    \"village\": (147.0377486353588, -36.10157163927205),\n",
    "}\n",
    "\n",
    "sites_pts = {n: geom.point(*v, 4326) for n, v in sites.items()}\n",
    "bbox = geom.unary_union([g for g in sites_pts.values()]).buffer(0.1).boundingbox.bbox"
   ]
  },
  {
   "cell_type": "markdown",
   "id": "23a23eb2-0354-4936-9443-54aeb684498c",
   "metadata": {
    "tags": []
   },
   "source": [
    "## Open FileDB of STACs\n",
    "\n",
    "Normally this will come from STAC api."
   ]
  },
  {
   "cell_type": "code",
   "execution_count": null,
   "id": "c3587ec0-765c-437b-95aa-2387087bf883",
   "metadata": {
    "tags": []
   },
   "outputs": [],
   "source": [
    "from odc.emit import open_zict_json\n",
    "from pystac.item import Item as StacItem\n",
    "\n",
    "stacs = open_zict_json(\"Data/emit-stac.zip\", \"r\")\n",
    "\n",
    "stac_ids = [\n",
    "    \"EMIT_L2A_RFL_001_20230316T045121_2307503_004\",\n",
    "    \"EMIT_L2A_RFL_001_20230316T045133_2307503_005\",\n",
    "]\n",
    "\n",
    "stac_items = [StacItem.from_dict(stacs[_id]) for _id in stac_ids]"
   ]
  },
  {
   "cell_type": "code",
   "execution_count": null,
   "id": "196f670b-4543-4ed8-9cf9-d6726a4ba137",
   "metadata": {
    "tags": []
   },
   "outputs": [],
   "source": [
    "using_dask = locals().get(\"client\", None) is not None\n",
    "if using_dask:\n",
    "    # Dask mode\n",
    "    print(\"Building Dask Graph\")\n",
    "    load_opts = dict(chunks={})\n",
    "else:\n",
    "    # Direct load with threads and progress\n",
    "    print(\"Direct load\")\n",
    "    load_opts = {\"pool\": 4, \"progress\": tqdm}\n",
    "\n",
    "xx = stac_load(\n",
    "    stac_items,\n",
    "    bbox=bbox,\n",
    "    crs=\"utm\",\n",
    "    resolution=70,\n",
    "    nodata=float(\"nan\"),\n",
    "    driver=\"odc.emit.EmitDriver\",\n",
    "    groupby=\"solar_day\",\n",
    "    bands=(\"elev\", \"reflectance\"),\n",
    "    **load_opts,\n",
    ")\n",
    "display(xx.odc.geobox, xx)"
   ]
  },
  {
   "cell_type": "code",
   "execution_count": null,
   "id": "90e0f6ce-af26-4a13-8da8-212e8d5caf46",
   "metadata": {
    "tags": []
   },
   "outputs": [],
   "source": [
    "if is_dask_collection(xx):\n",
    "    print(\"Loading data into Dask cluster\")\n",
    "    xx = client.persist(xx)\n",
    "    _ = dask_wait(xx)\n",
    "else:\n",
    "    print(\"Direct load\")"
   ]
  },
  {
   "cell_type": "markdown",
   "id": "b4f62e01-6aa4-4b8f-98a7-07e43acc3da8",
   "metadata": {},
   "source": [
    "## Visualize Bands 100-110"
   ]
  },
  {
   "cell_type": "code",
   "execution_count": null,
   "id": "6dcfea3f-f17a-40e7-9335-cbbfb83b06c5",
   "metadata": {
    "tags": []
   },
   "outputs": [],
   "source": [
    "roi = np.s_[0, :, :, 100:110]\n",
    "rfl = xx.reflectance[roi]\n",
    "if is_dask_collection(rfl):\n",
    "    print(f\"Extract subsection from Dask cluster: {rfl.shape}\")\n",
    "    rfl = rfl.compute()\n",
    "\n",
    "_ = rfl.plot.imshow(col=\"wavelength\", col_wrap=5, size=3, aspect=rfl.odc.aspect)"
   ]
  },
  {
   "cell_type": "markdown",
   "id": "ca01169e-b620-4e5b-871b-ca9082068fd0",
   "metadata": {
    "tags": []
   },
   "source": [
    "## Visualize Sample Locations"
   ]
  },
  {
   "cell_type": "markdown",
   "id": "a0cc0c3d-9477-4da3-ada4-640c1b111974",
   "metadata": {
    "tags": []
   },
   "source": [
    "### Extract Reflectance for sample locations\n",
    "\n",
    "- map from world coords to pixel\n",
    "- round to int\n",
    "- swap order from `X,Y` -> `Y,X`\n",
    "\n"
   ]
  },
  {
   "cell_type": "code",
   "execution_count": null,
   "id": "80594e0f-b0cc-4468-a632-bf01542008b5",
   "metadata": {
    "tags": []
   },
   "outputs": [],
   "source": [
    "sites_pix = {\n",
    "    n: tuple([int(round(v)) for v in xx.odc.geobox.project(pt).points[0]])[::-1]\n",
    "    for n, pt in sites_pts.items()\n",
    "}\n",
    "\n",
    "# lookup full reflectance data for each pixel location\n",
    "pxx = {n: xx.reflectance[0][pix_loc].compute().rename(n) for n, pix_loc in sites_pix.items()}"
   ]
  },
  {
   "cell_type": "markdown",
   "id": "7ccb0f31-3137-4fff-84ee-d49319795469",
   "metadata": {},
   "source": [
    "### Visualize with `xarray.plot.`"
   ]
  },
  {
   "cell_type": "code",
   "execution_count": null,
   "id": "fc87dde4-ee0b-42cb-9065-2ee48198573c",
   "metadata": {
    "tags": []
   },
   "outputs": [],
   "source": [
    "fig, axs = plt.subplot_mosaic(\n",
    "    [\n",
    "        [\"A\", \"B\", \"B\"],\n",
    "        [\"A\", \"B\", \"B\"],\n",
    "    ],\n",
    "    figsize=(12, 6),\n",
    ")\n",
    "\n",
    "\n",
    "ax = axs[\"A\"]\n",
    "xx.reflectance[0, :, :, 110].plot.imshow(\n",
    "    robust=True,\n",
    "    ax=ax,\n",
    "    cmap=\"bone\",\n",
    "    add_colorbar=False,\n",
    ")\n",
    "ax.axis(\"equal\")\n",
    "\n",
    "for n, pt in sites_pts.items():\n",
    "    qx, qy = pt.to_crs(xx.odc.crs).points[0]\n",
    "    ax.scatter(qx, qy)\n",
    "\n",
    "for px in pxx.values():\n",
    "    px.plot(ax=axs[\"B\"])"
   ]
  },
  {
   "cell_type": "markdown",
   "id": "d9c5018f-ae33-47c3-84f5-43496873444a",
   "metadata": {},
   "source": [
    "---------------------"
   ]
  }
 ],
 "metadata": {
  "kernelspec": {
   "display_name": "emit",
   "language": "python",
   "name": "emit"
  },
  "language_info": {
   "codemirror_mode": {
    "name": "ipython",
    "version": 3
   },
   "file_extension": ".py",
   "mimetype": "text/x-python",
   "name": "python",
   "nbconvert_exporter": "python",
   "pygments_lexer": "ipython3",
   "version": "3.10.12"
  }
 },
 "nbformat": 4,
 "nbformat_minor": 5
}
