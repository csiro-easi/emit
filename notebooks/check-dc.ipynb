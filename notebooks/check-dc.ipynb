{
 "cells": [
  {
   "cell_type": "code",
   "execution_count": null,
   "id": "885fb9fb-b2f0-44c5-8d42-fe6c43699dd0",
   "metadata": {
    "tags": []
   },
   "outputs": [],
   "source": [
    "import os\n",
    "\n",
    "for e in os.environ:\n",
    "    if e.startswith(\"DB_\"):\n",
    "        os.environ.pop(e, None)\n",
    "    \n",
    "os.environ['ODC_EMIT_DB_URL'] = \"postgresql:///datacube?host=/tmp\""
   ]
  },
  {
   "cell_type": "code",
   "execution_count": null,
   "id": "b17f32ba-4d09-455a-b8f4-42abc60f7824",
   "metadata": {
    "tags": []
   },
   "outputs": [],
   "source": [
    "import datacube\n",
    "import sqlalchemy\n",
    "import odc.emit\n",
    "\n",
    "odc.emit.__file__, datacube.__file__, sqlalchemy.__file__, sqlalchemy.__version__"
   ]
  },
  {
   "cell_type": "code",
   "execution_count": null,
   "id": "ec43d4e3-4dd4-489b-a56a-5f2ce00a5573",
   "metadata": {
    "tags": []
   },
   "outputs": [],
   "source": [
    "from datacube import Datacube\n",
    "from datacube.cfg.api import ODCConfig, ODCEnvironment\n",
    "\n",
    "dc = Datacube(env=\"emit\")"
   ]
  },
  {
   "cell_type": "code",
   "execution_count": null,
   "id": "c11fc1b9-77e9-4a75-a6f6-0f6d76ebb8e3",
   "metadata": {
    "tags": []
   },
   "outputs": [],
   "source": [
    "dc.list_products(with_pandas=False)"
   ]
  },
  {
   "cell_type": "code",
   "execution_count": null,
   "id": "96b5c848-9471-4d23-b953-e72584917020",
   "metadata": {
    "tags": []
   },
   "outputs": [],
   "source": [
    "p = dc.index.products.get_by_name(\"emit_l2a\")\n",
    "p"
   ]
  },
  {
   "cell_type": "code",
   "execution_count": null,
   "id": "b597fcbb-1a24-4ddb-98db-8f0d8172574b",
   "metadata": {},
   "outputs": [],
   "source": [
    "p.load_hints()"
   ]
  },
  {
   "cell_type": "code",
   "execution_count": null,
   "id": "4780ff6f-50ef-48ba-a273-53df2c8d9ba9",
   "metadata": {
    "tags": []
   },
   "outputs": [],
   "source": [
    "p.measurements"
   ]
  },
  {
   "cell_type": "code",
   "execution_count": null,
   "id": "c844541e-095d-4d0e-a639-ec3891d7b506",
   "metadata": {
    "tags": []
   },
   "outputs": [],
   "source": [
    "p.extra_dimensions.dims['wavelength']"
   ]
  },
  {
   "cell_type": "code",
   "execution_count": null,
   "id": "bf972f60-dc2d-44a9-b5af-9e1e52a5db69",
   "metadata": {
    "tags": []
   },
   "outputs": [],
   "source": [
    "!~/.envs/kk/bin/datacube -E emit system check"
   ]
  },
  {
   "cell_type": "code",
   "execution_count": null,
   "id": "f10c8341-a50f-4489-9090-a754941f5680",
   "metadata": {
    "tags": []
   },
   "outputs": [],
   "source": [
    "!~/.envs/kk/bin/datacube -E emit product update --allow-unsafe emit.yaml"
   ]
  },
  {
   "cell_type": "code",
   "execution_count": null,
   "id": "021901e3-9723-48a6-9f29-b28bee92b0f2",
   "metadata": {},
   "outputs": [],
   "source": []
  }
 ],
 "metadata": {
  "kernelspec": {
   "display_name": "KK",
   "language": "python",
   "name": "kk"
  },
  "language_info": {
   "codemirror_mode": {
    "name": "ipython",
    "version": 3
   },
   "file_extension": ".py",
   "mimetype": "text/x-python",
   "name": "python",
   "nbconvert_exporter": "python",
   "pygments_lexer": "ipython3",
   "version": "3.10.12"
  }
 },
 "nbformat": 4,
 "nbformat_minor": 5
}
