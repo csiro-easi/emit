{
 "cells": [
  {
   "cell_type": "code",
   "execution_count": null,
   "id": "021901e3-9723-48a6-9f29-b28bee92b0f2",
   "metadata": {},
   "outputs": [],
   "source": [
    "import importlib\n",
    "from pathlib import Path\n",
    "\n",
    "for pkg in [\n",
    "    \"odc.emit\",\n",
    "    \"odc.geo\",\n",
    "    \"odc.stac\",\n",
    "    \"datacube\",\n",
    "    \"pystac\",\n",
    "    \"dask\",\n",
    "    \"distributed\",\n",
    "    \"sqlalchemy\",\n",
    "]:\n",
    "    m = importlib.import_module(pkg)\n",
    "    pth = str(Path(m.__file__).parent).replace(str(Path.home()), \"~\")\n",
    "    v = getattr(m, \"__version__\", \"??\")\n",
    "    pkg = f\"{pkg}=={v}\"\n",
    "    print(f\"{pkg:35}  # {pth}\")"
   ]
  },
  {
   "cell_type": "code",
   "execution_count": null,
   "id": "885fb9fb-b2f0-44c5-8d42-fe6c43699dd0",
   "metadata": {
    "tags": []
   },
   "outputs": [],
   "source": [
    "import os\n",
    "import sys\n",
    "\n",
    "for e in os.environ:\n",
    "    if e.startswith(\"DB_\"):\n",
    "        os.environ.pop(e, None)\n",
    "\n",
    "os.environ[\"ODC_EMIT_DB_URL\"] = \"postgresql:///datacube?host=/tmp\""
   ]
  },
  {
   "cell_type": "code",
   "execution_count": null,
   "id": "4f58da3b-e7e9-45fb-ab7d-172dceb0e751",
   "metadata": {
    "tags": []
   },
   "outputs": [],
   "source": [
    "from IPython.display import JSON, display"
   ]
  },
  {
   "cell_type": "code",
   "execution_count": null,
   "id": "b17f32ba-4d09-455a-b8f4-42abc60f7824",
   "metadata": {
    "tags": []
   },
   "outputs": [],
   "source": [
    "import datacube\n",
    "import odc.emit\n",
    "import odc.geo\n",
    "import odc.stac\n",
    "import sqlalchemy"
   ]
  },
  {
   "cell_type": "code",
   "execution_count": null,
   "id": "ec43d4e3-4dd4-489b-a56a-5f2ce00a5573",
   "metadata": {
    "tags": []
   },
   "outputs": [],
   "source": [
    "from datacube import Datacube\n",
    "from datacube.cfg.api import ODCConfig, ODCEnvironment\n",
    "from datacube.storage import BandInfo, measurement_paths\n",
    "from datacube.testutils.io import eo3_geobox\n",
    "from datacube.utils.serialise import jsonify_document\n",
    "from odc.geo.geom import unary_union\n",
    "\n",
    "\n",
    "def band_to_json(bb):\n",
    "    return jsonify_document({k: getattr(bb, k) for k in bb.__slots__})\n",
    "\n",
    "\n",
    "dc = Datacube(env=\"emit\")"
   ]
  },
  {
   "cell_type": "code",
   "execution_count": null,
   "id": "c11fc1b9-77e9-4a75-a6f6-0f6d76ebb8e3",
   "metadata": {
    "tags": []
   },
   "outputs": [],
   "source": [
    "dc.list_products(with_pandas=False)"
   ]
  },
  {
   "cell_type": "code",
   "execution_count": null,
   "id": "bd75629c-f3d6-48f9-8c28-564b9e3d93dc",
   "metadata": {
    "tags": []
   },
   "outputs": [],
   "source": [
    "p = dc.index.products.get_by_name(\"emit_l2a\")\n",
    "\n",
    "display(JSON(p.definition))\n",
    "print(\"-\" * 40)\n",
    "display(JSON(p.extra_dimensions.dims[\"wavelength\"]))\n",
    "print(\"-\" * 40)\n",
    "display(p.load_hints())"
   ]
  },
  {
   "cell_type": "code",
   "execution_count": null,
   "id": "eee38732-b39d-48c4-900f-c97a3c981eb7",
   "metadata": {
    "tags": []
   },
   "outputs": [],
   "source": [
    "list(dc.index.datasets.count_by_product())"
   ]
  },
  {
   "cell_type": "code",
   "execution_count": null,
   "id": "3a830631-1f67-44f6-b789-2b519e5467a2",
   "metadata": {
    "tags": []
   },
   "outputs": [],
   "source": [
    "dss = dc.find_datasets(\n",
    "    product=\"emit_l2a\",\n",
    "    lon=(146, 149),\n",
    "    lat=(-37, -36),\n",
    ")\n",
    "display(len(dss), unary_union([ds.extent.exterior for ds in dss]))"
   ]
  },
  {
   "cell_type": "code",
   "execution_count": null,
   "id": "b7ff3c16-6bf2-48cb-a796-f46918e86b12",
   "metadata": {
    "tags": []
   },
   "outputs": [],
   "source": [
    "dss = dc.find_datasets(\n",
    "    product=\"emit_l2a\",\n",
    "    lon=(146, 149),\n",
    "    lat=(-37, -36),\n",
    "    time=\"2023-10\",\n",
    ")\n",
    "display(len(dss), unary_union([ds.extent.exterior for ds in dss]))"
   ]
  },
  {
   "cell_type": "code",
   "execution_count": null,
   "id": "0a228af2-4cdc-457f-8a87-ea3151d99c59",
   "metadata": {
    "tags": []
   },
   "outputs": [],
   "source": [
    "ds = dss[0]\n",
    "gbox = eo3_geobox(ds, \"elev\")\n",
    "display(\n",
    "    ds.time,\n",
    "    ds.crs,\n",
    "    ds.extent,\n",
    "    gbox,\n",
    "    JSON(ds.product.extra_dimensions.dims[\"wavelength\"]),\n",
    ")"
   ]
  },
  {
   "cell_type": "code",
   "execution_count": null,
   "id": "0c1d7a23-58a7-4a34-83a0-5a9708be197b",
   "metadata": {
    "tags": []
   },
   "outputs": [],
   "source": [
    "bands = {band: BandInfo(ds, band) for band in ds.product.measurements}\n",
    "display(JSON({name: band_to_json(bb) for name, bb in bands.items()}))"
   ]
  },
  {
   "cell_type": "code",
   "execution_count": null,
   "id": "492f3526-08cd-48e4-a8ef-15633b1b7c3b",
   "metadata": {
    "tags": []
   },
   "outputs": [],
   "source": [
    "JSON(ds.metadata_doc)"
   ]
  },
  {
   "cell_type": "code",
   "execution_count": null,
   "id": "bf972f60-dc2d-44a9-b5af-9e1e52a5db69",
   "metadata": {
    "tags": []
   },
   "outputs": [],
   "source": [
    "!~/.envs/kk/bin/datacube -E emit system check"
   ]
  },
  {
   "cell_type": "code",
   "execution_count": null,
   "id": "f10c8341-a50f-4489-9090-a754941f5680",
   "metadata": {
    "tags": []
   },
   "outputs": [],
   "source": [
    "#!~/.envs/kk/bin/datacube -E emit product update --allow-unsafe emit.yaml"
   ]
  },
  {
   "cell_type": "code",
   "execution_count": null,
   "id": "bfdffb7f-28ae-466c-b412-26ff1793abae",
   "metadata": {},
   "outputs": [],
   "source": []
  }
 ],
 "metadata": {
  "kernelspec": {
   "display_name": "KK",
   "language": "python",
   "name": "kk"
  },
  "language_info": {
   "codemirror_mode": {
    "name": "ipython",
    "version": 3
   },
   "file_extension": ".py",
   "mimetype": "text/x-python",
   "name": "python",
   "nbconvert_exporter": "python",
   "pygments_lexer": "ipython3",
   "version": "3.10.12"
  }
 },
 "nbformat": 4,
 "nbformat_minor": 5
}
