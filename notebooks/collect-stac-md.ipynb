{
 "cells": [
  {
   "cell_type": "code",
   "execution_count": null,
   "id": "49b21a1d-245f-4fd3-817f-5e896934709b",
   "metadata": {
    "tags": []
   },
   "outputs": [],
   "source": [
    "from pathlib import Path\n",
    "\n",
    "from odc.emit import open_zict_json, fetch_s3_creds, emit_doc_stream\n",
    "from tqdm.auto import tqdm\n",
    "\n",
    "dst = Path(\"emit-stac.zip\")\n",
    "overwrite = False\n",
    "if dst.exists() and not overwrite:\n",
    "    print(f\"File exists: {dst}\")\n",
    "    raise RuntimeError()\n",
    "\n",
    "print(\"Getting creds for S3\")\n",
    "creds = fetch_s3_creds()\n",
    "print(\"...done\")\n",
    "stacs = open_zict_json(dst, \"w\")\n",
    "\n",
    "async for emit_id, doc in tqdm(emit_doc_stream(creds=creds)):\n",
    "    stacs[emit_id] = doc\n",
    "\n",
    "stacs.close()"
   ]
  },
  {
   "cell_type": "markdown",
   "id": "39132ba2-913a-4398-afa5-2114b03a0d22",
   "metadata": {},
   "source": [
    "-----------------------------------------"
   ]
  }
 ],
 "metadata": {
  "kernelspec": {
   "display_name": "emit",
   "language": "python",
   "name": "emit"
  },
  "language_info": {
   "codemirror_mode": {
    "name": "ipython",
    "version": 3
   },
   "file_extension": ".py",
   "mimetype": "text/x-python",
   "name": "python",
   "nbconvert_exporter": "python",
   "pygments_lexer": "ipython3",
   "version": "3.10.12"
  }
 },
 "nbformat": 4,
 "nbformat_minor": 5
}
