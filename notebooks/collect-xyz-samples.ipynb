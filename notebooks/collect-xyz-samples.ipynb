{
 "cells": [
  {
   "cell_type": "code",
   "execution_count": null,
   "id": "0566cb97-b4df-44bc-beef-3d3ea0c2f48d",
   "metadata": {
    "tags": []
   },
   "outputs": [],
   "source": [
    "from pathlib import Path\n",
    "\n",
    "import dask.array as da\n",
    "import numpy as np\n",
    "import s3fs\n",
    "from dask import delayed\n",
    "from distributed import Client\n",
    "from numcodecs import JSON, Zstd\n",
    "from tqdm.auto import tqdm\n",
    "from utils.txt import from_njson\n",
    "\n",
    "from odc.emit import (\n",
    "    SampleLoader,\n",
    "    fetch_s3_creds,\n",
    "    gen_sample,\n",
    "    open_zict_json,\n",
    "    review_gcp_sample,\n",
    "    stac_store,\n",
    ")\n",
    "\n",
    "stacs_path = Path(\"/tmp/emit.zip\")\n",
    "stac_njson = Path(\"Data/emit-stac.njson.gz\")\n",
    "\n",
    "if not stacs_path.exists():\n",
    "    print(f\"Generating cache: {stacs_path}\")\n",
    "    stacs = open_zict_json(\"/tmp/emit.zip\", \"w\")\n",
    "    stacs.update((doc[\"id\"], doc) for doc in tqdm(from_njson(stac_njson)))\n",
    "    stacs.close()"
   ]
  },
  {
   "cell_type": "code",
   "execution_count": null,
   "id": "58efa516-f7ed-4094-8904-314484793ef6",
   "metadata": {},
   "outputs": [],
   "source": [
    "creds = fetch_s3_creds()\n",
    "\n",
    "s3_opts = dict(\n",
    "    key=creds[\"accessKeyId\"],\n",
    "    secret=creds[\"secretAccessKey\"],\n",
    "    token=creds[\"sessionToken\"],\n",
    "    anon=False,\n",
    ")\n",
    "\n",
    "fs = s3fs.S3FileSystem(**s3_opts)\n",
    "if isinstance(fs.protocol, list):\n",
    "    # fix for `s3fs < 2023.10.0`\n",
    "    fs.protocol = tuple(fs.protocol)"
   ]
  },
  {
   "cell_type": "code",
   "execution_count": null,
   "id": "7de21b71-bae6-42a4-b539-aaf7d2746d4d",
   "metadata": {
    "tags": []
   },
   "outputs": [],
   "source": [
    "n = 5_000\n",
    "pts = gen_sample(n, pad=\"auto\")"
   ]
  },
  {
   "cell_type": "code",
   "execution_count": null,
   "id": "bd999943-1758-4743-be73-092b87a89d6c",
   "metadata": {
    "tags": []
   },
   "outputs": [],
   "source": [
    "granule = \"EMIT_L2A_RFL_001_20230316T045133_2307503_005\"  # AU\n",
    "#granule = \"EMIT_L2A_RFL_001_20230531T133036_2315109_002\"  # Gibraltar\n",
    "#granule = \"EMIT_L2A_RFL_001_20230804T142809_2321610_001\"  # South America\n",
    "\n",
    "sampler = SampleLoader(pts, s3=fs)\n",
    "\n",
    "sample = sampler.get(granule)\n",
    "sample[\"shape\"]"
   ]
  },
  {
   "cell_type": "code",
   "execution_count": null,
   "id": "c7fa4ad0-f2e0-4358-8fb0-35f270fa4e1f",
   "metadata": {},
   "outputs": [],
   "source": [
    "fig, axd = review_gcp_sample(sample)"
   ]
  },
  {
   "cell_type": "code",
   "execution_count": null,
   "id": "c9273666-90f5-4d9f-8985-6e444622ad48",
   "metadata": {
    "tags": []
   },
   "outputs": [],
   "source": [
    "client = Client(n_workers=16, threads_per_worker=1)\n",
    "client"
   ]
  },
  {
   "cell_type": "code",
   "execution_count": null,
   "id": "f82b5631-f8c6-4f5b-876f-c0de3f7a6713",
   "metadata": {
    "tags": []
   },
   "outputs": [],
   "source": [
    "samples = da.from_array(np.asarray(list(stac_store()), dtype=\"O\"), chunks=(10,))\n",
    "samples"
   ]
  },
  {
   "cell_type": "code",
   "execution_count": null,
   "id": "a9c41d41-cfe1-4b08-981e-ef67ec91617f",
   "metadata": {
    "tags": []
   },
   "outputs": [],
   "source": [
    "def _extractor(_ids, sampler):\n",
    "    xx = [sampler.get(_id) for _id in _ids]\n",
    "    return np.asarray(xx, dtype=\"O\")\n",
    "\n",
    "sampler = delayed(SampleLoader)(delayed(pts), s3=fs)\n",
    "zzz = samples.map_blocks(_extractor, sampler).rechunk(50)\n",
    "display(zzz)"
   ]
  },
  {
   "cell_type": "code",
   "execution_count": null,
   "id": "b34522d5-e8b3-4a50-8e0e-4ae6d89eeb22",
   "metadata": {
    "tags": []
   },
   "outputs": [],
   "source": [
    "\n",
    "rr = zzz.to_zarr(\n",
    "    \"/tmp/emit-xyz.samples.zarr\",\n",
    "    compute=False,\n",
    "    overwrite=True,\n",
    "    compressor=Zstd(),\n",
    "    object_codec=JSON(),\n",
    ")\n",
    "rr"
   ]
  },
  {
   "cell_type": "code",
   "execution_count": null,
   "id": "35353405-d7c0-4158-b8fe-52b5c6ca1e57",
   "metadata": {
    "tags": []
   },
   "outputs": [],
   "source": [
    "%%time\n",
    "_ = client.gather(client.compute(rr))"
   ]
  },
  {
   "cell_type": "markdown",
   "id": "0ca2fc25-6ceb-420b-ab64-e9baee5fcd92",
   "metadata": {
    "tags": []
   },
   "source": [
    "```python\n",
    "\n",
    "def _item_stream(zz, step=100):\n",
    "    N = zz.shape[0]\n",
    "    chunks = (slice(off, min(off+step, N)) for off in range(0, N, step))\n",
    "    for roi in chunks:\n",
    "        yield from zz[roi].copy()\n",
    "\n",
    "store = ZipStore(\"/tmp/emit-xyz.zarr.zip\")\n",
    "zz = zarr.open_array(store=store)\n",
    "samples = _item_stream(zz)\n",
    "\n",
    "sink = open_zict_json(\"/tmp/emit-zxy-samples.zip\", \"w\")\n",
    "\n",
    "for sample in tqdm(samples, total=zz.shape[0]):\n",
    "    sink[sample['id']] = sample  \n",
    "```\n",
    "\n",
    "```python\n",
    "from tqdm.auto import tqdm\n",
    "\n",
    "def patch_sample(sample):\n",
    "    nx, ny = map(lambda a: max(a) + 1, [sample[\"col\"], sample[\"row\"]])\n",
    "    return {\"shape\": (ny, nx), **sample}\n",
    "\n",
    "\n",
    "dst = open_zict_json(\"/tmp/emit-xyz-samples.zip\", \"w\")\n",
    "for k, sample in tqdm(samples.items()):\n",
    "    dst[k] = patch_sample(sample)\n",
    "\n",
    "dst.close()\n",
    "```\n"
   ]
  }
 ],
 "metadata": {
  "kernelspec": {
   "display_name": "KK",
   "language": "python",
   "name": "kk"
  },
  "language_info": {
   "codemirror_mode": {
    "name": "ipython",
    "version": 3
   },
   "file_extension": ".py",
   "mimetype": "text/x-python",
   "name": "python",
   "nbconvert_exporter": "python",
   "pygments_lexer": "ipython3",
   "version": "3.10.12"
  }
 },
 "nbformat": 4,
 "nbformat_minor": 5
}
