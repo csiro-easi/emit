{
 "cells": [
  {
   "cell_type": "code",
   "execution_count": null,
   "id": "5fc2c5d6-a4d4-46e1-9b7b-b6bf43413b96",
   "metadata": {
    "tags": []
   },
   "outputs": [],
   "source": [
    "import itertools\n",
    "from pathlib import Path\n",
    "\n",
    "import odc.stac\n",
    "from odc.stac import parse_item\n",
    "from pystac.item import Item as StacItem\n",
    "from tqdm.auto import tqdm\n",
    "from utils.tar import tar_doc_stream\n",
    "from utils.txt import from_njson, to_njson\n",
    "\n",
    "from odc.emit import cmr_to_stac, emit_load, open_zict, open_zict_json, prep_s3_fs\n",
    "from odc.emit._md import emit_id\n",
    "\n",
    "\n",
    "def emit_md_stream(fname):\n",
    "    store = open_zict(fname, \"r\")\n",
    "    as_json = open_zict_json(store)\n",
    "\n",
    "    for kid in (k[:-4] for k in store if k.endswith(\".cmr\")):\n",
    "        cmr_doc = as_json[kid + \".cmr\"]\n",
    "        dmr_doc = store[kid + \".dmrpp\"]\n",
    "        yield kid, (cmr_doc, dmr_doc)\n",
    "\n",
    "\n",
    "srcs = {\n",
    "    \"cmr\": Path(\"Data/emit-jsons.tar.gz\"),\n",
    "    \"dmrpp\": Path(\"Data/emit-dmrpp.tar.gz\"),\n",
    "}\n",
    "\n",
    "stac_njson = Path(\"Data/emit-stac.njson.gz\")"
   ]
  },
  {
   "cell_type": "code",
   "execution_count": null,
   "id": "ba498604-3998-45e0-95dc-d195e83774a1",
   "metadata": {
    "tags": []
   },
   "outputs": [],
   "source": [
    "emit_src_md_zip = Path(\"Data/emit-src-md.zip\")\n",
    "if not emit_src_md_zip.exists():\n",
    "    store = open_zict(emit_src_md_zip, \"w\")\n",
    "    cmrs = ((emit_id(p, \".cmr\"), doc) for p, doc in tar_doc_stream(srcs[\"cmr\"]))\n",
    "    dmrpp = ((emit_id(p, \".dmrpp\"), doc) for p, doc in tar_doc_stream(srcs[\"dmrpp\"]))\n",
    "\n",
    "    store.update(tqdm(itertools.chain(cmrs, dmrpp)))\n",
    "    store.close()\n",
    "else:\n",
    "    print(f\"Skipping generation of {emit_src_md_zip}, exists\")"
   ]
  },
  {
   "cell_type": "code",
   "execution_count": null,
   "id": "c3f93e95-9605-4d25-a3fb-bc47bd000d51",
   "metadata": {
    "tags": []
   },
   "outputs": [],
   "source": [
    "if stac_njson.exists():\n",
    "    print(f\"Skipping generation of `{stac_njson}`, exists\")\n",
    "else:\n",
    "    mdd = (cmr_to_stac(cmr, dmr) for _, (cmr, dmr) in emit_md_stream(emit_src_md_zip))\n",
    "    to_njson(tqdm(mdd), stac_njson)"
   ]
  },
  {
   "cell_type": "markdown",
   "id": "700553ba-2986-4d98-b771-ab089e219101",
   "metadata": {},
   "source": [
    "## Review STAC doc"
   ]
  },
  {
   "cell_type": "code",
   "execution_count": null,
   "id": "0566cb97-b4df-44bc-beef-3d3ea0c2f48d",
   "metadata": {
    "tags": []
   },
   "outputs": [],
   "source": [
    "stacs_path = Path(\"/tmp/emit.zip\")\n",
    "\n",
    "if not stacs_path.exists():\n",
    "    print(f\"... {stac_njson} => {stacs_path}\")\n",
    "    stacs = open_zict_json(stacs_path, \"w\")\n",
    "    stacs.update((doc[\"id\"], doc) for doc in tqdm(from_njson(stac_njson)))\n",
    "    stacs.close()\n",
    "\n",
    "stacs = open_zict_json(stacs_path, \"r\")"
   ]
  },
  {
   "cell_type": "code",
   "execution_count": null,
   "id": "5ad9a4d8-05eb-4bbb-b992-2305b0efd522",
   "metadata": {
    "tags": []
   },
   "outputs": [],
   "source": [
    "stac_doc = stacs[\"EMIT_L2A_RFL_001_20230316T045133_2307503_005\"]"
   ]
  },
  {
   "cell_type": "code",
   "execution_count": null,
   "id": "13aceefd-3163-4368-bd53-fa1e00cb2691",
   "metadata": {
    "tags": []
   },
   "outputs": [],
   "source": [
    "sit = StacItem.from_dict(stac_doc)\n",
    "pit = parse_item(sit)\n",
    "display(sit, pit)"
   ]
  },
  {
   "cell_type": "code",
   "execution_count": null,
   "id": "0ca6f315-b7c2-47e0-801e-40639b1bec1f",
   "metadata": {
    "tags": []
   },
   "outputs": [],
   "source": [
    "(ds,) = odc.stac.stac2ds([sit])\n",
    "ds.metadata_doc"
   ]
  },
  {
   "cell_type": "markdown",
   "id": "e631ce6d-299d-492d-a755-526261bf2edc",
   "metadata": {},
   "source": [
    "## Load back"
   ]
  },
  {
   "cell_type": "code",
   "execution_count": null,
   "id": "c7ad1f90-6d38-46bb-bb73-ae2514d18abd",
   "metadata": {},
   "outputs": [],
   "source": [
    "fs = prep_s3_fs()\n",
    "\n",
    "xx0 = emit_load(stac_doc, fs, chunks={\"y\": 32})\n",
    "glt = xx0[[\"glt_x\", \"glt_y\"]].drop(\"spatial_ref\")\n",
    "xx = xx0.drop([\"glt_x\", \"glt_y\", \"ortho_x\", \"ortho_y\", \"ortho_spatial_ref\"])\n",
    "\n",
    "display(xx.odc.geobox, glt.odc.geobox, xx, glt)"
   ]
  },
  {
   "cell_type": "markdown",
   "id": "85645872-f088-4868-be86-b977fe78f714",
   "metadata": {},
   "source": [
    "-----------------------------------"
   ]
  },
  {
   "cell_type": "code",
   "execution_count": null,
   "id": "220bacb1-71b7-4765-b86b-8855fa035efe",
   "metadata": {
    "tags": []
   },
   "outputs": [],
   "source": [
    "ww = xx.wavelengths.compute()\n",
    "ww"
   ]
  },
  {
   "cell_type": "code",
   "execution_count": null,
   "id": "72bf2500-68e6-4fd4-8794-8757f5d2a24f",
   "metadata": {
    "tags": []
   },
   "outputs": [],
   "source": [
    "#\",\".join([f\"{w:.15e}\" for w in ww.data.tolist()])\n",
    "\n",
    "!du -h Data/emit-src-md.zip\n",
    "!du -h Data/emit-stac.njson.gz\n",
    "!du -h /tmp/emit.zip\n",
    "#!du -h /tmp/*gz\n",
    "#!unzip -lv Data/emit-src-md.zip | head -20"
   ]
  },
  {
   "cell_type": "markdown",
   "id": "3bd533be-56c4-44b6-9192-ae12dbf0cec1",
   "metadata": {},
   "source": [
    "------------------------------------------------"
   ]
  }
 ],
 "metadata": {
  "kernelspec": {
   "display_name": "KK",
   "language": "python",
   "name": "kk"
  },
  "language_info": {
   "codemirror_mode": {
    "name": "ipython",
    "version": 3
   },
   "file_extension": ".py",
   "mimetype": "text/x-python",
   "name": "python",
   "nbconvert_exporter": "python",
   "pygments_lexer": "ipython3",
   "version": "3.10.12"
  }
 },
 "nbformat": 4,
 "nbformat_minor": 5
}
