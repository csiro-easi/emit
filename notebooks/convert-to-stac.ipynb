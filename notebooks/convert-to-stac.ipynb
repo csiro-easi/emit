{
 "cells": [
  {
   "cell_type": "code",
   "execution_count": null,
   "id": "5fc2c5d6-a4d4-46e1-9b7b-b6bf43413b96",
   "metadata": {
    "tags": []
   },
   "outputs": [],
   "source": [
    "import itertools\n",
    "import json\n",
    "from pathlib import Path\n",
    "\n",
    "import zict\n",
    "from odc.emit import cmr_to_stac\n",
    "from odc.emit._md import emit_id\n",
    "from tqdm.auto import tqdm\n",
    "from utils.tar import tar_doc_stream\n",
    "from utils.txt import from_njson, to_njson\n",
    "from zstandard import ZstdCompressor, ZstdDecompressor\n",
    "\n",
    "\n",
    "def open_zict(fname, mode=\"a\", level=6):\n",
    "    comp = ZstdCompressor(level)\n",
    "    decomp = ZstdDecompressor()\n",
    "\n",
    "    store = zict.Zip(fname, mode=mode)\n",
    "    return zict.Func(comp.compress, decomp.decompress, store)\n",
    "\n",
    "\n",
    "def open_zict_json(src, mode=\"a\", level=6):\n",
    "    if isinstance(src, (str, Path)):\n",
    "        zstd = open_zict(src, mode=mode, level=level)\n",
    "    else:\n",
    "        zstd = src\n",
    "    return zict.Func(lambda doc: json.dumps(doc, separators=(',', ':')).encode(\"utf-8\"), json.loads, zstd)\n",
    "\n",
    "def emit_md_stream(fname):\n",
    "    store = open_zict(fname, \"r\")\n",
    "    as_json = open_zict_json(store)\n",
    "    \n",
    "    for kid in (k[:-4] for k in store if k.endswith(\".cmr\")):\n",
    "        cmr_doc = as_json[kid + \".cmr\"]\n",
    "        dmr_doc = store[kid + \".dmrpp\"]\n",
    "        yield kid, (cmr_doc, dmr_doc)\n",
    "\n",
    "srcs = {\n",
    "    \"cmr\": Path(\"Data/emit-jsons.tar.gz\"),\n",
    "    \"dmrpp\": Path(\"Data/emit-dmrpp.tar.gz\"),\n",
    "}\n",
    "\n",
    "stac_njson = Path(\"Data/emit-stac.njson.xz\")"
   ]
  },
  {
   "cell_type": "code",
   "execution_count": null,
   "id": "ba498604-3998-45e0-95dc-d195e83774a1",
   "metadata": {
    "tags": []
   },
   "outputs": [],
   "source": [
    "emit_src_md_zip = Path(\"Data/emit-src-md.zip\")\n",
    "if not emit_src_md_zip.exists():\n",
    "    store = open_zict(emit_src_md_zip, \"w\")\n",
    "    cmrs = ((emit_id(p, \".cmr\"), doc) for p, doc in tar_doc_stream(srcs[\"cmr\"]))\n",
    "    dmrpp = ((emit_id(p, \".dmrpp\"), doc) for p, doc in tar_doc_stream(srcs[\"dmrpp\"]))\n",
    "\n",
    "    store.update(tqdm(itertools.chain(cmrs, dmrpp)))\n",
    "    store.close()\n",
    "else:\n",
    "    print(f\"Skipping generation of {emit_src_md_zip}, exists\")"
   ]
  },
  {
   "cell_type": "code",
   "execution_count": null,
   "id": "c3f93e95-9605-4d25-a3fb-bc47bd000d51",
   "metadata": {
    "tags": []
   },
   "outputs": [],
   "source": [
    "if stac_njson.exists():\n",
    "    print(f\"Skipping generation of `{stac_njson}`, exists\")\n",
    "else:\n",
    "    mdd = (cmr_to_stac(cmr, dmr) for _, (cmr, dmr) in emit_md_stream(emit_src_md_zip))\n",
    "    to_njson(tqdm(mdd), stac_njson)\n",
    "    "
   ]
  },
  {
   "cell_type": "markdown",
   "id": "e631ce6d-299d-492d-a755-526261bf2edc",
   "metadata": {},
   "source": [
    "## Load back"
   ]
  },
  {
   "cell_type": "code",
   "execution_count": null,
   "id": "0566cb97-b4df-44bc-beef-3d3ea0c2f48d",
   "metadata": {
    "tags": []
   },
   "outputs": [],
   "source": [
    "import fsspec\n",
    "import zarr\n",
    "\n",
    "stacs_path = Path(\"/tmp/emit.zip\")\n",
    "\n",
    "if not stacs_path.exists():\n",
    "    stacs = open_zict_json(\"/tmp/emit.zip\", \"w\")\n",
    "    stacs.update((doc['id'], doc) for doc in tqdm(from_njson(stac_njson)))\n",
    "    stacs.close()\n",
    "\n",
    "stacs = open_zict_json(stacs_path, \"r\")    "
   ]
  },
  {
   "cell_type": "code",
   "execution_count": null,
   "id": "e07328b9-55e6-42f0-a3e0-8265de8e6435",
   "metadata": {
    "tags": []
   },
   "outputs": [],
   "source": [
    "doc = stacs[\"EMIT_L2A_RFL_001_20230316T045133_2307503_005\"]\n",
    "\n",
    "rfs = fsspec.filesystem(\"reference\", fo=doc['assets']['RFL']['zarr:spec'])\n",
    "zg = zarr.open_group(rfs.get_mapper(\"\"))\n",
    "print(zg.tree())\n",
    "display(zg.tree(expand=True))"
   ]
  },
  {
   "cell_type": "code",
   "execution_count": null,
   "id": "13aceefd-3163-4368-bd53-fa1e00cb2691",
   "metadata": {
    "tags": []
   },
   "outputs": [],
   "source": [
    "import odc.stac\n",
    "from odc.stac import parse_item\n",
    "from pystac.item import Item as StacItem\n",
    "\n",
    "\n",
    "sit = StacItem.from_dict(doc)\n",
    "pit = parse_item(sit)\n",
    "pit"
   ]
  },
  {
   "cell_type": "code",
   "execution_count": null,
   "id": "310bae12-48b0-4088-8ca1-b9ef61941859",
   "metadata": {
    "tags": []
   },
   "outputs": [],
   "source": [
    "pit.safe_geometry('UTM')"
   ]
  },
  {
   "cell_type": "code",
   "execution_count": null,
   "id": "25c7daa0-012f-42c7-99fc-cec82e3935f6",
   "metadata": {
    "tags": []
   },
   "outputs": [],
   "source": [
    "gbx = pit.geoboxes()[0]\n",
    "gbx.footprint(4326, 2).boundingbox"
   ]
  },
  {
   "cell_type": "code",
   "execution_count": null,
   "id": "0ca6f315-b7c2-47e0-801e-40639b1bec1f",
   "metadata": {
    "tags": []
   },
   "outputs": [],
   "source": [
    "ds, = odc.stac.stac2ds([sit])\n",
    "\n",
    "ds.metadata_doc"
   ]
  },
  {
   "cell_type": "code",
   "execution_count": null,
   "id": "2f7d37fb-3425-4dd4-80f7-0572f0386310",
   "metadata": {
    "tags": []
   },
   "outputs": [],
   "source": [
    "!du -h Data/emit-src-md.zip\n",
    "!du -h Data/emit-stac.njson.xz\n",
    "!du -h /tmp/emit.zip\n",
    "!du -h /tmp/*gz\n",
    "#!unzip -lv Data/emit-src-md.zip | head -20"
   ]
  },
  {
   "cell_type": "markdown",
   "id": "3bd533be-56c4-44b6-9192-ae12dbf0cec1",
   "metadata": {},
   "source": [
    "------------------------------------------------"
   ]
  }
 ],
 "metadata": {
  "kernelspec": {
   "display_name": "KK",
   "language": "python",
   "name": "kk"
  },
  "language_info": {
   "codemirror_mode": {
    "name": "ipython",
    "version": 3
   },
   "file_extension": ".py",
   "mimetype": "text/x-python",
   "name": "python",
   "nbconvert_exporter": "python",
   "pygments_lexer": "ipython3",
   "version": "3.10.12"
  }
 },
 "nbformat": 4,
 "nbformat_minor": 5
}
