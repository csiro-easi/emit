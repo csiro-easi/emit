{
 "cells": [
  {
   "cell_type": "code",
   "execution_count": 2,
   "id": "93f52083-bdc9-4c23-af19-2a9d1019d782",
   "metadata": {
    "tags": []
   },
   "outputs": [
    {
     "name": "stdout",
     "output_type": "stream",
     "text": [
      "20231109\n"
     ]
    }
   ],
   "source": [
    "!date +%Y%m%d"
   ]
  },
  {
   "cell_type": "code",
   "execution_count": null,
   "id": "1c848d3c-f73d-4cf8-b11d-cd159f8fbf23",
   "metadata": {
    "tags": []
   },
   "outputs": [],
   "source": [
    "#!./earthdata-s3-creds.py"
   ]
  },
  {
   "cell_type": "code",
   "execution_count": null,
   "id": "d504a60b-9f42-4f85-816d-b2d7a321ead8",
   "metadata": {
    "tags": []
   },
   "outputs": [],
   "source": [
    "from utils.emit import fetch_s3_creds\n",
    "\n",
    "creds = fetch_s3_creds()"
   ]
  },
  {
   "cell_type": "code",
   "execution_count": null,
   "id": "72b084bf-4437-4eae-8f9a-d12b7f7499bf",
   "metadata": {
    "tags": []
   },
   "outputs": [],
   "source": [
    "%matplotlib inline\n",
    "import cartopy.crs as ccrs\n",
    "import environs\n",
    "import s3fs\n",
    "import seaborn as sns\n",
    "from matplotlib import pyplot as plt\n",
    "import json\n",
    "import os\n",
    "\n",
    "#environs.load_dotenv(\"/tmp/earthdata-s3.env\")"
   ]
  },
  {
   "cell_type": "code",
   "execution_count": null,
   "id": "230d0383-50c1-4573-9f5c-92f8099f4426",
   "metadata": {
    "tags": []
   },
   "outputs": [],
   "source": [
    "fs = s3fs.S3FileSystem(\n",
    "    anon=False,\n",
    "    key=creds['accessKeyId'],\n",
    "    secret=creds['secretAccessKey'],\n",
    "    token=creds['sessionToken'],\n",
    ")"
   ]
  },
  {
   "cell_type": "code",
   "execution_count": null,
   "id": "c248fcd7-4a04-4162-aa1b-8be8e1942f04",
   "metadata": {
    "tags": []
   },
   "outputs": [],
   "source": [
    "url = \"s3://lp-prod-protected/EMITL2ARFL.001/EMIT_L2A_RFL_001_20230316T045133_2307503_005/EMIT_L2A_RFL_001_20230316T045133_2307503_005.nc\"\n",
    "\n",
    "fs.listdir(url.rsplit(\"/\", 1)[0])"
   ]
  },
  {
   "cell_type": "code",
   "execution_count": null,
   "id": "3dae8896-f438-4c3a-ab8d-c90491611560",
   "metadata": {
    "tags": []
   },
   "outputs": [],
   "source": [
    "doc = fs.cat(f\"{url}.dmrpp\")\n"
   ]
  },
  {
   "cell_type": "code",
   "execution_count": null,
   "id": "c55a2bc0-78f2-405b-9650-b4ec2c628f44",
   "metadata": {
    "tags": []
   },
   "outputs": [],
   "source": [
    "import xml.etree.ElementTree as ElementTree\n",
    "from eosdis_store.dmrpp import get_dimensions, group_to_zarr, to_zarr\n",
    "from utils.emit import ortho_gbox, ChunkInfo, _parse_band_info\n",
    "\n",
    "zz = to_zarr(ElementTree.fromstring(doc))\n",
    "\n",
    "ortho_gbox(zz)"
   ]
  },
  {
   "cell_type": "code",
   "execution_count": null,
   "id": "e883ccfc-68bd-4bff-89e7-cd687f2d370a",
   "metadata": {
    "tags": []
   },
   "outputs": [],
   "source": [
    "_parse_band_info(zz)"
   ]
  },
  {
   "cell_type": "code",
   "execution_count": null,
   "id": "166a64fa-af98-4e84-8fae-e1d3670d1d41",
   "metadata": {
    "tags": []
   },
   "outputs": [],
   "source": [
    "zz"
   ]
  },
  {
   "cell_type": "code",
   "execution_count": null,
   "id": "66859d3f-cbc3-4cf6-bf51-1001c19c7f5d",
   "metadata": {},
   "outputs": [],
   "source": []
  },
  {
   "cell_type": "code",
   "execution_count": null,
   "id": "87059ecd-d759-41a1-a294-e95372d2748f",
   "metadata": {},
   "outputs": [],
   "source": []
  },
  {
   "cell_type": "code",
   "execution_count": null,
   "id": "8c6cd44e-2e9f-4468-b11e-8f1382aca3d3",
   "metadata": {},
   "outputs": [],
   "source": []
  },
  {
   "cell_type": "code",
   "execution_count": null,
   "id": "b43ef3ac-d1c6-4048-b72f-8e3fafa9c13a",
   "metadata": {
    "tags": []
   },
   "outputs": [],
   "source": [
    "%%bash\n",
    "\n",
    ". /tmp/earthdata-s3.env\n",
    "\n",
    "aws s3 ls s3://lp-prod-protected/"
   ]
  },
  {
   "cell_type": "code",
   "execution_count": null,
   "id": "756e8b41-a2d9-461c-a068-f3a2e4c52893",
   "metadata": {},
   "outputs": [],
   "source": []
  }
 ],
 "metadata": {
  "kernelspec": {
   "display_name": "KK",
   "language": "python",
   "name": "kk"
  },
  "language_info": {
   "codemirror_mode": {
    "name": "ipython",
    "version": 3
   },
   "file_extension": ".py",
   "mimetype": "text/x-python",
   "name": "python",
   "nbconvert_exporter": "python",
   "pygments_lexer": "ipython3",
   "version": "3.10.12"
  }
 },
 "nbformat": 4,
 "nbformat_minor": 5
}
