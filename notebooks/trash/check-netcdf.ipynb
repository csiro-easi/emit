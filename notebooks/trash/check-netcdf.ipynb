{
 "cells": [
  {
   "cell_type": "code",
   "execution_count": null,
   "id": "bf3ac7aa-4cec-4677-8bcb-98f1868b7e72",
   "metadata": {
    "tags": []
   },
   "outputs": [],
   "source": [
    "import warnings\n",
    "\n",
    "from rasterio.errors import NotGeoreferencedWarning\n",
    "\n",
    "warnings.simplefilter(\"ignore\", NotGeoreferencedWarning)"
   ]
  },
  {
   "cell_type": "code",
   "execution_count": null,
   "id": "b2d68b24-e5b6-4979-a2b7-181e619eced5",
   "metadata": {
    "tags": []
   },
   "outputs": [],
   "source": [
    "%matplotlib inline\n",
    "\n",
    "import netCDF4\n",
    "import numpy as np\n",
    "import rioxarray\n",
    "import xarray as xr\n",
    "from matplotlib import pyplot as plt\n",
    "from odc.geo.xr import wrap_xr"
   ]
  },
  {
   "cell_type": "code",
   "execution_count": null,
   "id": "34b86d16-d51d-459c-9318-7a2d2a5ee0d9",
   "metadata": {
    "tags": []
   },
   "outputs": [],
   "source": [
    "xx = xr.open_dataset(\"Data/sample.nc\", chunks={\"bands\": 5})\n",
    "xx"
   ]
  },
  {
   "cell_type": "code",
   "execution_count": null,
   "id": "fa6b1a64-0728-41f3-ae8a-723a08871092",
   "metadata": {
    "tags": []
   },
   "outputs": [],
   "source": [
    "!ls -lh *nc"
   ]
  },
  {
   "cell_type": "code",
   "execution_count": null,
   "id": "f4d442e9-b7b3-4663-977c-6c015aef2511",
   "metadata": {
    "tags": []
   },
   "outputs": [],
   "source": [
    "#!ncdump -hs Data/sample.nc"
   ]
  },
  {
   "cell_type": "code",
   "execution_count": null,
   "id": "15d68c38-5a0e-48fd-bddf-0b9f06f99eba",
   "metadata": {
    "tags": []
   },
   "outputs": [],
   "source": [
    "xx[\"reflectance\"]"
   ]
  },
  {
   "cell_type": "code",
   "execution_count": null,
   "id": "fc84446b-1fc3-4819-813f-fed297a8e5e3",
   "metadata": {
    "tags": []
   },
   "outputs": [],
   "source": [
    "xx.to_zarr?"
   ]
  },
  {
   "cell_type": "code",
   "execution_count": null,
   "id": "15dcbb0b-82e0-4aaa-a272-674a9f3d4fda",
   "metadata": {
    "tags": []
   },
   "outputs": [],
   "source": [
    "lon, lat, elev, glt_x, glt_y = [\n",
    "    xx[\"location\"][n][:] for n in [\"lon\", \"lat\", \"elev\", \"glt_x\", \"glt_y\"]\n",
    "]\n",
    "wavelength = xx[\"sensor_band_parameters/wavelengths\"][:]"
   ]
  },
  {
   "cell_type": "code",
   "execution_count": null,
   "id": "b97bffba-6270-456b-aebc-56d4e42ecf18",
   "metadata": {
    "tags": []
   },
   "outputs": [],
   "source": [
    "plt.imshow(elev)\n",
    "plt.colorbar()"
   ]
  },
  {
   "cell_type": "code",
   "execution_count": null,
   "id": "b4671711-368b-4ad8-9cfa-d11ac4423b7a",
   "metadata": {
    "tags": []
   },
   "outputs": [],
   "source": [
    "from odc.geo.math import affine_from_pts, quasi_random_r2\n",
    "from odc.geo import xy_\n",
    "from odc.geo.geobox import GeoBox\n",
    "from odc.geo import geom\n",
    "\n",
    "ix, iy = quasi_random_r2(100, lon.shape).astype('int32').T\n",
    "plt.scatter(lon[iy, ix], lat[iy, ix])"
   ]
  },
  {
   "cell_type": "code",
   "execution_count": null,
   "id": "0cd5dfc5-b45f-409a-974a-8ae1946e19ff",
   "metadata": {},
   "outputs": [],
   "source": []
  },
  {
   "cell_type": "code",
   "execution_count": null,
   "id": "366e887a-ae6d-4e3c-beec-db531fa62eba",
   "metadata": {
    "tags": []
   },
   "outputs": [],
   "source": [
    "PIX = [xy_(x, y) for x, y in zip(ix, iy)]\n",
    "WLD = [xy_(x, y) for x, y in zip(lon.data[iy, ix], lat.data[iy, ix])]\n",
    "\n",
    "gbox = GeoBox(lon.shape, affine_from_pts(PIX, WLD), 4326)\n",
    "\n",
    "display(gbox)"
   ]
  },
  {
   "cell_type": "code",
   "execution_count": null,
   "id": "f34073b5-8e09-4033-a09f-1e3942fa91e6",
   "metadata": {
    "tags": []
   },
   "outputs": [],
   "source": [
    "wld_pts = geom.multipoint([(pt.x, pt.y) for pt in WLD], 4326)\n",
    "pix_pts = geom.multipoint([(float(pt.x), float(pt.y)) for pt in PIX], None)\n",
    "\n",
    "display(wld_pts, wld_pts.to_crs(\"utm\"), pix_pts)\n"
   ]
  },
  {
   "cell_type": "code",
   "execution_count": null,
   "id": "26cfdbc1-d585-45bc-bc4f-6b4baa228af8",
   "metadata": {
    "tags": []
   },
   "outputs": [],
   "source": [
    "def gbox_from_points(pix, wld, shape):\n",
    "    crs = wld.crs\n",
    "    _pix = [xy_(*g.points[0]) for g in pix.geoms]\n",
    "    _wld = [xy_(*g.points[0]) for g in wld.geoms]\n",
    "    A = affine_from_pts(_pix, _wld)\n",
    "    return GeoBox(shape, A, crs)\n",
    "\n",
    "gbox_from_points(pix_pts, wld_pts.to_crs(\"utm\"), lon.shape)"
   ]
  },
  {
   "cell_type": "code",
   "execution_count": null,
   "id": "d66f5dbe-4a88-4c69-bd28-5713748b9eb9",
   "metadata": {
    "tags": []
   },
   "outputs": [],
   "source": [
    "gbox_from_points(pix_pts, wld_pts.to_crs(3857), lon.shape)"
   ]
  },
  {
   "cell_type": "code",
   "execution_count": null,
   "id": "9272b9eb-dc0a-41f6-b6e1-0a84f7e98dfe",
   "metadata": {
    "tags": []
   },
   "outputs": [],
   "source": [
    "[xy_(*p.points[0]) for p in pix_pts.geoms]"
   ]
  },
  {
   "cell_type": "code",
   "execution_count": null,
   "id": "99a891ca-1df4-4ced-bf4d-3af1225b3805",
   "metadata": {
    "tags": []
   },
   "outputs": [],
   "source": [
    "_p = wld_pts.to_crs(\"utm\")\n",
    "display(_p.crs, _p)"
   ]
  },
  {
   "cell_type": "code",
   "execution_count": null,
   "id": "d617441b-213e-48ad-8b49-d8e1ca613d4c",
   "metadata": {},
   "outputs": [],
   "source": []
  },
  {
   "cell_type": "code",
   "execution_count": null,
   "id": "ed109071-4063-4986-9724-96817a3fee16",
   "metadata": {
    "tags": []
   },
   "outputs": [],
   "source": [
    "ee = wrap_xr(elev.data, gbox)\n",
    "ee.plot.imshow(size=8)"
   ]
  },
  {
   "cell_type": "code",
   "execution_count": null,
   "id": "4ff4625b-157c-484b-bd99-0d6b205816f4",
   "metadata": {
    "tags": []
   },
   "outputs": [],
   "source": [
    "ee.odc.geobox.resolution"
   ]
  },
  {
   "cell_type": "code",
   "execution_count": null,
   "id": "72b208d5-e7ee-4c5d-b207-028c69e0a60d",
   "metadata": {
    "tags": []
   },
   "outputs": [],
   "source": [
    "ee.odc.write_cog(\"elev.tif\", overwrite=True)"
   ]
  },
  {
   "cell_type": "code",
   "execution_count": null,
   "id": "34fdcc6b-fd8c-4cf9-beb8-e8f3342632a1",
   "metadata": {
    "tags": []
   },
   "outputs": [],
   "source": [
    "ee.odc.geobox"
   ]
  },
  {
   "cell_type": "code",
   "execution_count": null,
   "id": "28587783-15ae-40c3-b93d-6131e491e150",
   "metadata": {
    "tags": []
   },
   "outputs": [],
   "source": [
    "xx.spatial_ref, xx.geotransform[[1, 2, 0, 4, 5, 3]].reshape(2, 3)"
   ]
  },
  {
   "cell_type": "code",
   "execution_count": null,
   "id": "10eaa4e7-8026-4a8a-85bd-7babbfe86593",
   "metadata": {
    "tags": []
   },
   "outputs": [],
   "source": [
    "%%time\n",
    "yy = xx[\"reflectance\"][:, :, :]\n",
    "yy.shape"
   ]
  },
  {
   "cell_type": "code",
   "execution_count": null,
   "id": "218ce15c-c103-476e-ade4-e7aac1c57fc6",
   "metadata": {
    "tags": []
   },
   "outputs": [],
   "source": [
    "plt.imshow(yy[:, :, 100])"
   ]
  },
  {
   "cell_type": "code",
   "execution_count": null,
   "id": "241b64fd-aed2-422b-97d4-80162aab0638",
   "metadata": {
    "tags": []
   },
   "outputs": [],
   "source": [
    "# plt.imshow(lat); plt.colorbar()"
   ]
  },
  {
   "cell_type": "code",
   "execution_count": null,
   "id": "0e895d06-e94a-4def-9da4-f342775c8d5e",
   "metadata": {
    "tags": []
   },
   "outputs": [],
   "source": [
    "!ncdump -hs Data/sample.nc"
   ]
  },
  {
   "cell_type": "code",
   "execution_count": null,
   "id": "f8320671-f204-48d7-a91a-3a874645d581",
   "metadata": {
    "tags": []
   },
   "outputs": [],
   "source": [
    "# xx, *_ = rioxarray.open_rasterio(\"EMIT_L2A_RFL_001_20230531T133036_2315109_002.nc\", chunks=(-1, -1, 1))\n",
    "# xx.reflectance.data"
   ]
  },
  {
   "cell_type": "code",
   "execution_count": null,
   "id": "e713ca62-133f-43a3-959e-d9d100ee5284",
   "metadata": {},
   "outputs": [],
   "source": []
  }
 ],
 "metadata": {
  "kernelspec": {
   "display_name": "KK",
   "language": "python",
   "name": "kk"
  },
  "language_info": {
   "codemirror_mode": {
    "name": "ipython",
    "version": 3
   },
   "file_extension": ".py",
   "mimetype": "text/x-python",
   "name": "python",
   "nbconvert_exporter": "python",
   "pygments_lexer": "ipython3",
   "version": "3.10.12"
  }
 },
 "nbformat": 4,
 "nbformat_minor": 5
}
