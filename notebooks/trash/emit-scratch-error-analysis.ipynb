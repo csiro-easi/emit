{
 "cells": [
  {
   "cell_type": "code",
   "execution_count": null,
   "id": "f705d43d-6949-4eed-bb6a-03eec31e1b43",
   "metadata": {
    "tags": []
   },
   "outputs": [],
   "source": [
    "#!cp Data/sample.nc* /tmp"
   ]
  },
  {
   "cell_type": "code",
   "execution_count": null,
   "id": "1bc712ba-342a-41b9-926b-07804b8ea7b8",
   "metadata": {
    "tags": []
   },
   "outputs": [],
   "source": [
    "%matplotlib inline\n",
    "import cartopy.crs as ccrs\n",
    "import seaborn as sns\n",
    "from matplotlib import pyplot as plt"
   ]
  },
  {
   "cell_type": "code",
   "execution_count": null,
   "id": "32ddacba-d52f-42b9-84d6-4b49fefe67f5",
   "metadata": {
    "tags": []
   },
   "outputs": [],
   "source": [
    "import numpy as np\n",
    "import xarray as xr\n",
    "import pandas as pd\n",
    "from odc.geo import geom\n",
    "from odc.geo.gcp import GCPGeoBox\n",
    "from tqdm.auto import tqdm\n",
    "\n",
    "from utils.emit import emit_xr_read, gxy, sample_error"
   ]
  },
  {
   "cell_type": "code",
   "execution_count": null,
   "id": "1d5cb86c-2f5e-48dc-9dcd-b723abacec4c",
   "metadata": {
    "tags": []
   },
   "outputs": [],
   "source": [
    "%%time\n",
    "xx = emit_xr_read(\"/tmp/sample.nc\")"
   ]
  },
  {
   "cell_type": "code",
   "execution_count": null,
   "id": "40da340f-4d83-405d-b17f-b20d29c59586",
   "metadata": {
    "tags": []
   },
   "outputs": [],
   "source": [
    "xx.reflectance.data[xx.reflectance.data == xx.reflectance.odc.nodata] = np.nan\n",
    "xx.attrs.pop(\"nodata\", None)"
   ]
  },
  {
   "cell_type": "code",
   "execution_count": null,
   "id": "20121076-7048-4232-acba-d1fb4292b86b",
   "metadata": {
    "tags": []
   },
   "outputs": [],
   "source": [
    "display(xx.odc.geobox, xx)"
   ]
  },
  {
   "cell_type": "code",
   "execution_count": null,
   "id": "03bc1e5a-6ba2-438f-b197-6001304bd917",
   "metadata": {
    "tags": []
   },
   "outputs": [],
   "source": [
    "gp, gw, pix_error, ee = sample_error(xx, 300)\n",
    "#print(f\"Average projection error: {pix_error.mean():.3f}px\")\n",
    "\n",
    "fig, axd = plt.subplot_mosaic(\n",
    "    [\n",
    "        [\"A\", \"A\", \"B\"],\n",
    "        [\"A\", \"A\", \"B\"],\n",
    "        [\"C\", \"C\", \"C\"],\n",
    "    ],\n",
    "    figsize=(8, 8),\n",
    ")\n",
    "fig.suptitle(f\"Pixel Registration Error (avg:{pix_error.mean():.3f}px)\")\n",
    "\n",
    "sns.scatterplot(x=ee.T[0], y=ee.T[1], size=pix_error, ax=axd[\"A\"])\n",
    "\n",
    "X, Y = gxy(gp).T\n",
    "sns.heatmap(\n",
    "    xx.elev,\n",
    "    cmap=\"bone\",\n",
    "    alpha=0.7,\n",
    "    square=True,\n",
    "    cbar=False,\n",
    "    xticklabels=False,\n",
    "    yticklabels=False,\n",
    "    ax=axd[\"B\"],\n",
    ")\n",
    "sns.scatterplot(\n",
    "    x=X, y=Y, size=pix_error, color=\"y\", alpha=0.3, ax=axd[\"B\"], legend=False\n",
    ")\n",
    "\n",
    "axd[\"C\"].axvline(pix_error.mean(), color=\"y\")\n",
    "sns.kdeplot(pix_error, ax=axd[\"C\"])\n",
    "fig.tight_layout()\n",
    "pass"
   ]
  },
  {
   "cell_type": "code",
   "execution_count": null,
   "id": "2023a622-484e-4ed2-b522-a1f9f07e959d",
   "metadata": {
    "tags": []
   },
   "outputs": [],
   "source": [
    "ii = 100\n",
    "\n",
    "ax = plt.axes(projection=ccrs.Projection(\"epsg:4326\"))\n",
    "\n",
    "xx.reflectance[..., ii].plot.pcolormesh(\n",
    "    x=\"lon\",\n",
    "    y=\"lat\",\n",
    "    robust=True,\n",
    "    cmap=\"magma\",\n",
    "    ax=ax,\n",
    "    add_labels=False,\n",
    ")\n",
    "ax.coastlines(color='c')\n",
    "pass"
   ]
  },
  {
   "cell_type": "code",
   "execution_count": null,
   "id": "a4aa8b89-7db9-4933-bf16-a812fd23e524",
   "metadata": {
    "tags": []
   },
   "outputs": [],
   "source": [
    "ax = plt.axes(projection=ccrs.Projection(\"epsg:4326\"))\n",
    "\n",
    "xx.elev.plot.pcolormesh(\n",
    "    x=\"lon\",\n",
    "    y=\"lat\",\n",
    "    robust=True,\n",
    "    cmap=\"magma\",\n",
    "    add_labels=False,\n",
    ")\n",
    "ax.coastlines(color='c')\n",
    "pass"
   ]
  },
  {
   "cell_type": "code",
   "execution_count": null,
   "id": "8d0a7354-91af-404e-a776-27c3cbc06835",
   "metadata": {
    "tags": []
   },
   "outputs": [],
   "source": [
    "rgb = xx.reflectance.sel(band=[700, 550, 450], method='nearest')\n",
    "\n",
    "rgb.plot.imshow(size=8, vmin=0.0, vmax=0.45, aspect=rgb.odc.geobox.aspect)"
   ]
  },
  {
   "cell_type": "code",
   "execution_count": null,
   "id": "e03e1a66-9e09-4c0a-ac66-54028f484eec",
   "metadata": {
    "tags": []
   },
   "outputs": [],
   "source": [
    "import folium\n",
    "\n",
    "mm = folium.Map()\n",
    "xx.reflectance.sel(band=450, method='nearest').odc.add_to(mm, cmap=\"bone\", robust=True)\n",
    "mm.fit_bounds(xx.reflectance.odc.map_bounds())\n",
    "mm"
   ]
  },
  {
   "cell_type": "code",
   "execution_count": null,
   "id": "8a3b4dcb-d403-45c4-8d71-1325b8a0db21",
   "metadata": {
    "tags": []
   },
   "outputs": [],
   "source": [
    "plt.hist(rgb.data[..., 2].ravel(), 30)\n",
    "pass"
   ]
  },
  {
   "cell_type": "code",
   "execution_count": null,
   "id": "e7a369e6-7898-48e5-b6a6-609e120136ee",
   "metadata": {
    "tags": []
   },
   "outputs": [],
   "source": [
    "xx.reflectance[..., ii].plot.imshow(\n",
    "    size=8,\n",
    "    robust=True,\n",
    "    # imshow params\n",
    "    origin=\"upper\",\n",
    "    interpolation=\"bicubic\",\n",
    "    aspect=xx.reflectance.odc.geobox.aspect,\n",
    "    cmap=\"magma\",\n",
    ")\n",
    "\n",
    "pass"
   ]
  },
  {
   "cell_type": "code",
   "execution_count": null,
   "id": "a31010f2-bf78-478f-8880-fc472cde460f",
   "metadata": {
    "tags": []
   },
   "outputs": [],
   "source": [
    "# xx.reflectance.plot.pcolormesh?"
   ]
  },
  {
   "cell_type": "code",
   "execution_count": null,
   "id": "d81cc521-05fb-4705-a4f7-dfd9b259b416",
   "metadata": {
    "tags": []
   },
   "outputs": [],
   "source": [
    "S = 1\n",
    "rois = [\n",
    "    np.s_[0, ::S],\n",
    "    np.s_[::S, -1],\n",
    "    np.s_[-1, ::-S],\n",
    "    np.s_[::-S, 0],\n",
    "    np.s_[0, :1],\n",
    "]\n"
   ]
  },
  {
   "cell_type": "code",
   "execution_count": null,
   "id": "a5fe2429-06e5-4511-b6cd-a93156e31c8d",
   "metadata": {
    "tags": []
   },
   "outputs": [],
   "source": [
    "pix_xy = np.dstack([xx.lon.data, xx.lat.data])\n",
    "S = 10\n",
    "\n",
    "XY = np.concatenate(\n",
    "    [\n",
    "        pix_xy[0, ::S],\n",
    "        pix_xy[::S, -1],\n",
    "        pix_xy[-1, ::-S],\n",
    "        pix_xy[::-S, 0],\n",
    "        pix_xy[0, :1],\n",
    "    ]\n",
    ")\n",
    "\n",
    "footprint = geom.polygon(XY.tolist(), 4326).to_crs(\"utm\")\n",
    "footprint"
   ]
  },
  {
   "cell_type": "code",
   "execution_count": null,
   "id": "33a29958-db7e-4179-8be2-2481f0d425aa",
   "metadata": {
    "tags": []
   },
   "outputs": [],
   "source": [
    "xx.lon.plot.pcolormesh(x=\"lon\", y=\"lat\", robust=True)"
   ]
  },
  {
   "cell_type": "code",
   "execution_count": null,
   "id": "a99f85b7-8ea2-4553-b052-88476164b2d8",
   "metadata": {
    "tags": []
   },
   "outputs": [],
   "source": [
    "gbox = xx.odc.geobox\n",
    "gbox"
   ]
  },
  {
   "cell_type": "code",
   "execution_count": null,
   "id": "a904ca1d-df52-4e71-872f-c16763b7fe3b",
   "metadata": {
    "tags": []
   },
   "outputs": [],
   "source": [
    "from odc.geo.geobox import GeoBox\n",
    "\n",
    "gbox2 = GeoBox.from_bbox(gbox.extent.boundingbox, resolution=gbox.resolution)\n",
    "gbox2"
   ]
  },
  {
   "cell_type": "code",
   "execution_count": null,
   "id": "180b6b27-82d3-4ca7-b642-5073c05a9e92",
   "metadata": {
    "tags": []
   },
   "outputs": [],
   "source": [
    "gbox.extent.exterior | gbox2.extent.exterior"
   ]
  },
  {
   "cell_type": "code",
   "execution_count": null,
   "id": "94d1ce8a-ce78-4466-84d4-3c1667e2070f",
   "metadata": {
    "tags": []
   },
   "outputs": [],
   "source": [
    "%%time\n",
    "\n",
    "yy = xx.odc.reproject(gbox2)"
   ]
  },
  {
   "cell_type": "code",
   "execution_count": null,
   "id": "13fdf384-c598-4ee1-9d08-31076affff85",
   "metadata": {
    "tags": []
   },
   "outputs": [],
   "source": [
    "bb = yy.reflectance.isel(band=100)\n",
    "bb.where(bb != bb.odc.nodata).plot.imshow(size=6, robust=True)"
   ]
  },
  {
   "cell_type": "code",
   "execution_count": null,
   "id": "7ace3426-064d-4721-956d-0e784655c358",
   "metadata": {
    "tags": []
   },
   "outputs": [],
   "source": [
    "_ = xx.reflectance.isel(x=1000, y=750).where(xx.valid).plot.step(figsize=(12, 2))"
   ]
  },
  {
   "cell_type": "code",
   "execution_count": null,
   "id": "60d38a7e-a927-4ca4-a003-1d045ad078ce",
   "metadata": {
    "tags": []
   },
   "outputs": [],
   "source": [
    "ix, iy = map(int, gbox.project(geom.point(-5.8, 36.2, \"epsg:4326\")).points[0])\n",
    "iy, ix"
   ]
  },
  {
   "cell_type": "code",
   "execution_count": null,
   "id": "c570b6e6-0eb6-4e6a-a38c-ed825c860065",
   "metadata": {
    "tags": []
   },
   "outputs": [],
   "source": [
    "[xx[b].isel(x=ix, y=iy).data.item() for b in ['lon', 'lat']]"
   ]
  },
  {
   "cell_type": "code",
   "execution_count": null,
   "id": "7330a476-f68a-47ab-bac1-4cc1b069f519",
   "metadata": {},
   "outputs": [],
   "source": []
  },
  {
   "cell_type": "code",
   "execution_count": null,
   "id": "eec76304-457b-429c-beab-73ba210d365b",
   "metadata": {
    "tags": []
   },
   "outputs": [],
   "source": [
    "%%time\n",
    "\n",
    "xx = xx.where(xx != xx.odc.nodata)"
   ]
  },
  {
   "cell_type": "code",
   "execution_count": null,
   "id": "4b340583-d78e-42b6-a6d9-40eaae2a7c3c",
   "metadata": {
    "tags": []
   },
   "outputs": [],
   "source": [
    "xx.chunk(band=5)"
   ]
  },
  {
   "cell_type": "code",
   "execution_count": null,
   "id": "43a17cd3-5e05-4c23-8f2d-b6042d3d45d0",
   "metadata": {
    "tags": []
   },
   "outputs": [],
   "source": [
    "plot_idx = np.arange(xx.reflectance.shape[-1])[xx.valid][::13]\n",
    "\n",
    "xx.reflectance.isel(band=plot_idx).plot.imshow(\n",
    "    col=\"band\",\n",
    "    vmin=0.1,\n",
    "    vmax=0.9,\n",
    "    col_wrap=4,\n",
    "    size=2,\n",
    "    yincrease=False,\n",
    "    cmap=\"viridis\",\n",
    "    # add_labels=False,\n",
    ")\n",
    "pass"
   ]
  },
  {
   "cell_type": "code",
   "execution_count": null,
   "id": "20eb0eb9-9754-4b7b-ba2d-3ffc5e9dda22",
   "metadata": {
    "tags": []
   },
   "outputs": [],
   "source": [
    "from IPython.display import Image\n",
    "\n",
    "Image(\n",
    "    data=xx.reflectance.sel(band=550, method='nearest').odc.colorize(robust=True, cmap=\"bone\").odc.compress(\"webp\")\n",
    ")"
   ]
  },
  {
   "cell_type": "code",
   "execution_count": null,
   "id": "1d76fbe2-448e-48d3-a26a-17d47409d0b0",
   "metadata": {},
   "outputs": [],
   "source": [
    "100 * xx.odc.geobox.project(xx.odc.geobox.extent ^ xx.odc.geobox.approx.extent).area / (\n",
    "    xx.shape[0] * xx.shape[1]\n",
    ")"
   ]
  },
  {
   "cell_type": "code",
   "execution_count": null,
   "id": "37588b95-c0d1-4d3b-a01b-a7454be8326a",
   "metadata": {},
   "outputs": [],
   "source": []
  },
  {
   "cell_type": "code",
   "execution_count": null,
   "id": "a24f52fd-b7b4-4896-b73c-e4389578914c",
   "metadata": {},
   "outputs": [],
   "source": [
    "%%debug \n",
    "xx.reflectance.sel(band=450, method='nearest').odc.reproject(3857)"
   ]
  },
  {
   "cell_type": "code",
   "execution_count": null,
   "id": "2b5469f4-5b52-4a29-ab0b-0d2583f66ca6",
   "metadata": {
    "tags": []
   },
   "outputs": [],
   "source": [
    "xx.odc._state"
   ]
  },
  {
   "cell_type": "code",
   "execution_count": null,
   "id": "55b9cead-a4b9-485a-9818-e475f24faa6f",
   "metadata": {},
   "outputs": [],
   "source": [
    "sdims = set(xx.odc.spatial_dims)\n",
    "\n",
    "#coords = dict((k, v) for k, v in src.coords.items() if k not in sdims)\n",
    "{k: coord for k, coord in xx.reflectance.coords.items() if not sdims.intersection(coord.dims)}"
   ]
  },
  {
   "cell_type": "code",
   "execution_count": null,
   "id": "05c7db73-4e6f-4f04-883f-ddd28f3d705c",
   "metadata": {},
   "outputs": [],
   "source": [
    "sdims = set(sdims)\n",
    "sdims.intersection(('b',))"
   ]
  },
  {
   "cell_type": "code",
   "execution_count": null,
   "id": "7a4c228f-2ef2-47b7-bbe4-cd486f86a745",
   "metadata": {},
   "outputs": [],
   "source": []
  },
  {
   "cell_type": "code",
   "execution_count": null,
   "id": "c9eab22a-a3eb-42f7-8b3c-864d9a5154e3",
   "metadata": {},
   "outputs": [],
   "source": []
  },
  {
   "cell_type": "code",
   "execution_count": null,
   "id": "6400642c-c154-4ab4-8ca9-9f240c37eef9",
   "metadata": {},
   "outputs": [],
   "source": []
  },
  {
   "cell_type": "code",
   "execution_count": null,
   "id": "b87787c8-2e61-4a9c-b492-766df671c7c6",
   "metadata": {},
   "outputs": [],
   "source": []
  },
  {
   "cell_type": "code",
   "execution_count": null,
   "id": "2b22790f-3ca9-4128-9c36-afbe490a6c57",
   "metadata": {},
   "outputs": [],
   "source": []
  },
  {
   "cell_type": "code",
   "execution_count": null,
   "id": "faff4fb4-f9ad-4bd0-8739-f2508273286d",
   "metadata": {
    "tags": []
   },
   "outputs": [],
   "source": [
    "display(\n",
    "    gbox.grid_lines(300) | gbox.extent.exterior | gbox[0, 0].extent.centroid,\n",
    "    gbox.grid_lines(200, \"native\"),\n",
    ")"
   ]
  },
  {
   "cell_type": "code",
   "execution_count": null,
   "id": "55259768-c72e-4de5-90b7-5e7ff353cc6c",
   "metadata": {
    "tags": []
   },
   "outputs": [],
   "source": [
    "(lon[0, 0], lat[0, 0]), gbox.gcps()[:10]"
   ]
  },
  {
   "cell_type": "code",
   "execution_count": null,
   "id": "c0c1d6d0-86f2-4538-88c8-f582a651b6b7",
   "metadata": {
    "tags": []
   },
   "outputs": [],
   "source": [
    "c_lon, c_lat = footprint.centroid.to_crs(4326).points[0]\n",
    "\n",
    "# ax = plt.axes(projection=ccrs.PlateCarree())\n",
    "# ax = plt.axes(projection=ccrs.Projection(\"epsg:6933\"))\n",
    "# ax = plt.axes(projection=ccrs.ObliqueMercator())\n",
    "ax = plt.axes(\n",
    "    # projection=ccrs.NearsidePerspective(central_latitude=c_lat, central_longitude=c_lon)\n",
    "    projection=ccrs.Projection(gbox.crs)\n",
    ")\n",
    "\n",
    "# ax.set_extent([-8, 15, 34, 50], ccrs.Geodetic())\n",
    "ax.plot(XX, YY, \"C1o\", transform=ccrs.Geodetic())\n",
    "ax.plot([c_lon], [c_lat], \"C1x\", transform=ccrs.Geodetic())\n",
    "# ax.add_geometries(footprint.geom, ccrs.CRS(footprint.crs.proj), alpha=0.1)\n",
    "ax.add_geometries(gbox.grid_lines(200, \"native\").geom, ccrs.CRS(gbox.crs.proj), alpha=1)\n",
    "ax.coastlines()\n",
    "ax.gridlines()"
   ]
  },
  {
   "cell_type": "code",
   "execution_count": null,
   "id": "5e70a9b8-8f92-4af9-8484-54cc44bf7bed",
   "metadata": {
    "tags": []
   },
   "outputs": [],
   "source": [
    "np.asarray(gg.json[\"coordinates\"])"
   ]
  },
  {
   "cell_type": "code",
   "execution_count": null,
   "id": "f336887d-a11c-40dd-90c5-23105e75ce05",
   "metadata": {
    "tags": []
   },
   "outputs": [],
   "source": [
    "x0, y0 = gbox.affine * (0, 0)\n",
    "x1, y1 = gbox.affine * (0, 100)\n",
    "dx, dy = x1 - x0, y1 - y0\n",
    "dx, dy, dx / dy, np.arctan2(dy, dx) * 180 / np.pi"
   ]
  },
  {
   "cell_type": "code",
   "execution_count": null,
   "id": "d759f629-f54e-4c5e-b39b-e6944179aab4",
   "metadata": {
    "tags": []
   },
   "outputs": [],
   "source": [
    "gbox.affine * (0, 0)"
   ]
  },
  {
   "cell_type": "code",
   "execution_count": null,
   "id": "95026f82-9e4c-4805-99ec-343b3b130599",
   "metadata": {
    "tags": []
   },
   "outputs": [],
   "source": [
    "footprint.to_crs(\"utm\").crs"
   ]
  },
  {
   "cell_type": "code",
   "execution_count": null,
   "id": "e5b1f799-2aaa-47b1-931b-1798575b34b0",
   "metadata": {
    "tags": []
   },
   "outputs": [],
   "source": [
    "plt.imshow(pix[:, :, 80], vmin=0)\n",
    "plt.colorbar()"
   ]
  },
  {
   "cell_type": "code",
   "execution_count": null,
   "id": "305a597f-5952-472f-a07a-a0156d56f430",
   "metadata": {
    "tags": []
   },
   "outputs": [],
   "source": [
    "plt.imshow(elev)"
   ]
  },
  {
   "cell_type": "code",
   "execution_count": null,
   "id": "49a32d58-39e1-49d6-830c-3c2f5c6bf9c7",
   "metadata": {
    "tags": []
   },
   "outputs": [],
   "source": [
    "footprint.to_crs(\"utm\")"
   ]
  },
  {
   "cell_type": "code",
   "execution_count": null,
   "id": "daffeec8-6ab4-4256-9879-7fe7b2a4abe9",
   "metadata": {},
   "outputs": [],
   "source": []
  },
  {
   "cell_type": "code",
   "execution_count": null,
   "id": "943cee1c-166c-4490-9e58-87eeee4ae0d5",
   "metadata": {},
   "outputs": [],
   "source": []
  },
  {
   "cell_type": "code",
   "execution_count": null,
   "id": "fdca288b-4d48-44a4-9787-8e34d2e1c9ab",
   "metadata": {
    "tags": []
   },
   "outputs": [],
   "source": [
    "def emit_to_zarr(doc):\n",
    "    return to_zarr(ElementTree.fromstring(doc))\n",
    "\n",
    "\n",
    "def kk(tar_stream):\n",
    "    for p, doc in tar_stream:\n",
    "        yield {\"url\": f\"s3://{p}\", \"zarr\": emit_to_zarr(doc)}\n",
    "\n",
    "\n",
    "tar_stream = tar_doc_stream(\"emit-dmrpp.tgz\")\n",
    "to_njson(tqdm(kk(tar_stream)), \"emit-zarr-meta.njson.gz\")"
   ]
  },
  {
   "cell_type": "code",
   "execution_count": null,
   "id": "e2db6bec-3314-484f-901f-d67a46708951",
   "metadata": {
    "tags": []
   },
   "outputs": [],
   "source": [
    "# geotransfrom: applies to `location/glt_{x,y}` images\n",
    "#  tx, sx, 0, ...\n",
    "#  ty, 0, sy\n",
    "\n",
    "attrs = meta_store[\".zattrs\"]\n",
    "\n",
    "kk = [\n",
    "    \"flight_line\",\n",
    "    \"time_coverage_start\",\n",
    "    \"time_coverage_end\",\n",
    "    #'crosstrack_orientation',\n",
    "    \"spatialResolution\",\n",
    "    #'spatial_ref',\n",
    "    #'geotransform',\n",
    "    \"day_night_flag\",\n",
    "    #'title'\n",
    "]\n",
    "{**{k: attrs[k] for k in kk}, \"bbox\": tuple(attrs[k] for k in BBOX_KEYS)}"
   ]
  },
  {
   "cell_type": "code",
   "execution_count": null,
   "id": "e6668472-11d9-4255-9dce-664ce96cfac2",
   "metadata": {
    "tags": []
   },
   "outputs": [],
   "source": [
    "B = \"reflectance\"\n",
    "meta_store[f\"{B}/.zarray\"], meta_store[f\"{B}/.zchunkstore\"], meta_store[f\"{B}/.zattrs\"]"
   ]
  },
  {
   "cell_type": "code",
   "execution_count": null,
   "id": "f68fd89b-396f-4046-a2fb-080a12525e43",
   "metadata": {
    "tags": []
   },
   "outputs": [],
   "source": [
    "B = \"location/lat\"\n",
    "B = \"sensor_band_parameters/wavelengths\"\n",
    "meta_store[f\"{B}/.zarray\"], meta_store[f\"{B}/.zchunkstore\"], meta_store[f\"{B}/.zattrs\"]"
   ]
  },
  {
   "cell_type": "code",
   "execution_count": null,
   "id": "df9ff425-44b3-41f6-ba77-87a4748243f0",
   "metadata": {
    "tags": []
   },
   "outputs": [],
   "source": [
    "[(B, meta_store[f\"{B}/.zchunkstore\"].get(\"0\", \":chunked:\")) for B in bands]"
   ]
  },
  {
   "cell_type": "code",
   "execution_count": null,
   "id": "293f3435-22d1-40c3-b26c-17bd3b247d4e",
   "metadata": {},
   "outputs": [],
   "source": []
  },
  {
   "cell_type": "code",
   "execution_count": null,
   "id": "a1846b11-1345-460f-a826-ce850765aa4b",
   "metadata": {},
   "outputs": [],
   "source": []
  },
  {
   "cell_type": "code",
   "execution_count": null,
   "id": "879861d3-6131-470d-8180-e51c7e670205",
   "metadata": {},
   "outputs": [],
   "source": []
  },
  {
   "cell_type": "code",
   "execution_count": null,
   "id": "d42c8cb6-18c4-4088-acbc-b92af18ea50d",
   "metadata": {},
   "outputs": [],
   "source": []
  },
  {
   "cell_type": "code",
   "execution_count": null,
   "id": "e19f5896-3f66-4e3b-a8c7-b4f1410a0f24",
   "metadata": {},
   "outputs": [],
   "source": []
  },
  {
   "cell_type": "code",
   "execution_count": null,
   "id": "c302c3e2-04e9-4654-bdbf-feb33e24d0c9",
   "metadata": {},
   "outputs": [],
   "source": []
  },
  {
   "cell_type": "code",
   "execution_count": null,
   "id": "d798b753-088a-4218-9cca-712a3d706973",
   "metadata": {
    "tags": []
   },
   "outputs": [],
   "source": [
    "# ORBIT = 2329804 # AU\n",
    "ORBIT = 2315109\n",
    "\n",
    "urls_all = slurp_lines(\"emitl2arfl.urls.gz\")\n",
    "\n",
    "nc_rgx = re.compile(\n",
    "    \"s3://lp-prod-protected/EMITL2ARFL.001/EMIT_L2A_RFL_001_.*/EMIT_L2A_RFL_001_\\d{8}T\\d{6}_\\d+_\\d{3}.nc$\"\n",
    ")\n",
    "\n",
    "uu = [u for u in urls_all if nc_rgx.match(u)]\n",
    "len(uu), [u for u in uu if parse_emit_orbit(u) == ORBIT]"
   ]
  },
  {
   "cell_type": "code",
   "execution_count": null,
   "id": "3a8fd406-43c6-4dee-a138-8a050a3fa0be",
   "metadata": {
    "tags": []
   },
   "outputs": [],
   "source": [
    "# meta_store['.zattrs']"
   ]
  },
  {
   "cell_type": "code",
   "execution_count": null,
   "id": "f1686bd2-9dcd-4868-bc9c-06d229fdfec0",
   "metadata": {},
   "outputs": [],
   "source": []
  },
  {
   "cell_type": "code",
   "execution_count": null,
   "id": "7c298a3b-eecc-4f9e-aa57-7edde92d2904",
   "metadata": {
    "tags": []
   },
   "outputs": [],
   "source": [
    "%%bash\n",
    "\n",
    ". /tmp/earthdata-s3.env\n",
    "\n",
    "granule=EMIT_L2A_RFL_001_20230531T133036_2315109_002\n",
    "granule=EMIT_L2A_RFL_001_20230531T133124_2315109_003\n",
    "\n",
    "aws s3 ls s3://lp-prod-protected/EMITL2ARFL.001/$granule/\n",
    "#aws s3 cp s3://lp-prod-protected/EMITL2ARFL.001/$granule/$granule.nc.dmrpp .\n",
    "#aws s3 cp s3://lp-prod-protected/EMITL2ARFL.001/$granule/$granule.cmr.json .\n",
    "#aws s3 cp s3://lp-prod-protected/EMITL2ARFL.001/$granule/$granule.nc .\n",
    "\n",
    "#ln -s $granule.nc sample-003.nc\n",
    "#ln -s $granule.nc.dmrpp sample-003.nc.dmrpp\n"
   ]
  },
  {
   "cell_type": "code",
   "execution_count": null,
   "id": "8779aa93-4bed-4de9-835b-498712f3e632",
   "metadata": {},
   "outputs": [],
   "source": []
  }
 ],
 "metadata": {
  "kernelspec": {
   "display_name": "KK",
   "language": "python",
   "name": "kk"
  },
  "language_info": {
   "codemirror_mode": {
    "name": "ipython",
    "version": 3
   },
   "file_extension": ".py",
   "mimetype": "text/x-python",
   "name": "python",
   "nbconvert_exporter": "python",
   "pygments_lexer": "ipython3",
   "version": "3.10.12"
  }
 },
 "nbformat": 4,
 "nbformat_minor": 5
}
