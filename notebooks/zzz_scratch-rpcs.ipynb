{
 "cells": [
  {
   "cell_type": "code",
   "execution_count": null,
   "id": "9002a754-3a9e-4fb5-90e9-34a0d3630763",
   "metadata": {
    "tags": []
   },
   "outputs": [],
   "source": [
    "from utils.gcps import (\n",
    "    compute_error,\n",
    "    gcp_geobox,\n",
    "    mk_error_plot,\n",
    "    review_sample,\n",
    "    rio_gcp_transformer,\n",
    "    sub_sample,\n",
    ")\n",
    "from utils.zict import open_zict_json"
   ]
  },
  {
   "cell_type": "code",
   "execution_count": null,
   "id": "450c67d6-6637-4a44-bdae-9d9ea621a1ff",
   "metadata": {
    "tags": []
   },
   "outputs": [],
   "source": [
    "samples = open_zict_json(\"/home/jovyan/Data/emit-xyz-samples.zip\", \"r\")\n",
    "all_ids = list(samples)\n",
    "len(all_ids), all_ids[:5]"
   ]
  },
  {
   "cell_type": "code",
   "execution_count": null,
   "id": "1854bafc-7bb1-404b-abb5-0aca3261a031",
   "metadata": {
    "tags": []
   },
   "outputs": [],
   "source": [
    "granule = \"EMIT_L2A_RFL_001_20230316T045133_2307503_005\"  # AU\n",
    "# granule = \"EMIT_L2A_RFL_001_20230531T133036_2315109_002\"  # Gibraltar\n",
    "# granule = \"EMIT_L2A_RFL_001_20230804T142809_2321610_001\"  # South America\n",
    "granule = all_ids[20_106]\n",
    "\n",
    "sample = samples[granule]\n",
    "_sample = sub_sample(sample, 500, nside=7)\n",
    "_ = review_sample(_sample, figsize=(7, 5), s=90)"
   ]
  },
  {
   "cell_type": "code",
   "execution_count": null,
   "id": "6a8d8afc-ad6d-4b71-bdc2-022ba663ffb6",
   "metadata": {
    "tags": []
   },
   "outputs": [],
   "source": [
    "list(sample)"
   ]
  },
  {
   "cell_type": "code",
   "execution_count": null,
   "id": "507f4741-63f4-4076-adb3-9f4134e9619a",
   "metadata": {
    "tags": []
   },
   "outputs": [],
   "source": [
    "import osgeo\n",
    "from rasterio.transform import RPCTransformer, RPCTransformerBase\n",
    "\n",
    "\n",
    "import numpy as np\n",
    "import xarray as xr\n",
    "import scipy.optimize\n",
    "\n",
    "from odc.geo.gcp import Poly2d\n",
    "\n",
    "Poly2d.fit?"
   ]
  },
  {
   "cell_type": "code",
   "execution_count": null,
   "id": "3a6daa8d-2d99-40b6-82ec-a7edafc3fdbe",
   "metadata": {
    "tags": []
   },
   "outputs": [],
   "source": [
    "pix = np.vstack([sample['col'], sample['row']]).T\n",
    "wld3 = np.vstack([sample['x'], sample['y'], sample['z']]).T\n",
    "wld2 = np.vstack([sample['x'], sample['y']]).T\n",
    "\n",
    "p2w = Poly2d.fit(pix, wld2)\n",
    "w2p = Poly2d.fit(wld2, pix)"
   ]
  },
  {
   "cell_type": "code",
   "execution_count": null,
   "id": "e142ebda-6f01-4150-8bab-36ca840d8545",
   "metadata": {
    "tags": []
   },
   "outputs": [],
   "source": [
    "p2w._cc.shape, p2w._A"
   ]
  },
  {
   "cell_type": "code",
   "execution_count": null,
   "id": "a4e31a44-53fe-450a-ba73-cba0c4a6f3c2",
   "metadata": {
    "tags": []
   },
   "outputs": [],
   "source": [
    "w2p._cc, w2p._A"
   ]
  },
  {
   "cell_type": "code",
   "execution_count": null,
   "id": "2fba4669-6f84-45ae-84f6-ed2f458d4db0",
   "metadata": {},
   "outputs": [],
   "source": []
  },
  {
   "cell_type": "code",
   "execution_count": null,
   "id": "0050ba44-2c30-492e-92b4-25bdbbdb360b",
   "metadata": {
    "tags": []
   },
   "outputs": [],
   "source": [
    "wld_ = p2w(pix)"
   ]
  },
  {
   "cell_type": "code",
   "execution_count": null,
   "id": "a1f88b19-ca07-46b0-955d-d24fc55e4f6f",
   "metadata": {
    "tags": []
   },
   "outputs": [],
   "source": [
    "ee = wld_ - wld2\n",
    "ee.std(0)"
   ]
  },
  {
   "cell_type": "code",
   "execution_count": null,
   "id": "0c42d435-5113-4325-9ffc-b67ac8de7e0c",
   "metadata": {
    "tags": []
   },
   "outputs": [],
   "source": [
    "pix_ = w2p(wld2)\n",
    "ee = pix_ - pix\n",
    "ee.std(0)"
   ]
  },
  {
   "cell_type": "code",
   "execution_count": null,
   "id": "50d01788-8216-4a65-aa4c-c48628b50568",
   "metadata": {
    "tags": []
   },
   "outputs": [],
   "source": [
    "pix_ = w2p(p2w(pix))\n",
    "ee = pix_ - pix\n",
    "ee.std(0)"
   ]
  },
  {
   "cell_type": "code",
   "execution_count": null,
   "id": "4540c16f-e62e-4254-8698-8d69cadf6178",
   "metadata": {
    "tags": []
   },
   "outputs": [],
   "source": [
    "list(sample)"
   ]
  },
  {
   "cell_type": "code",
   "execution_count": null,
   "id": "8dfe5cf3-21e1-4b01-a108-a187b1338299",
   "metadata": {
    "tags": []
   },
   "outputs": [],
   "source": [
    "!ls Data/"
   ]
  },
  {
   "cell_type": "code",
   "execution_count": null,
   "id": "288a8361-7224-41f8-a8a3-ef10ad2f8d42",
   "metadata": {},
   "outputs": [],
   "source": []
  }
 ],
 "metadata": {
  "kernelspec": {
   "display_name": "KK",
   "language": "python",
   "name": "kk"
  },
  "language_info": {
   "codemirror_mode": {
    "name": "ipython",
    "version": 3
   },
   "file_extension": ".py",
   "mimetype": "text/x-python",
   "name": "python",
   "nbconvert_exporter": "python",
   "pygments_lexer": "ipython3",
   "version": "3.10.12"
  }
 },
 "nbformat": 4,
 "nbformat_minor": 5
}
