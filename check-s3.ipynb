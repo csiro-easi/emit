{
 "cells": [
  {
   "cell_type": "code",
   "execution_count": null,
   "id": "3fadacfc-0d12-44fd-b9ae-8ab1e36d67ef",
   "metadata": {
    "tags": []
   },
   "outputs": [],
   "source": [
    "%%bash\n",
    "\n",
    "odc_hs=\"s3://adias-prod-dc-data-projects/odc-hs\"\n",
    "\n",
    "printf \"Identity\\n\"\n",
    "aws sts get-caller-identity\n",
    "\n",
    "printf \"\\n\\nBuckets:\\n\"\n",
    "aws s3 ls\n",
    "\n",
    "\n",
    "printf \"\\n\\nScratch:\\n\"\n",
    "aws s3 ls s3://adias-prod-user-scratch/AROARMIYJDHXSW2F2KRBS:kirill.kouzoubov/\n",
    "\n",
    "printf \"\\n\\n ls %s/:\\n\" $odc_hs\n",
    "aws s3 ls $odc_hs/ || echo \"failed to list odc-hs/\""
   ]
  },
  {
   "cell_type": "code",
   "execution_count": null,
   "id": "ed70ca04-8ce7-42a9-b02b-df94dcc709b6",
   "metadata": {
    "tags": []
   },
   "outputs": [],
   "source": [
    "#!aws s3 cp check-s3.ipynb s3://adias-prod-user-scratch/AROARMIYJDHXSW2F2KRBS:kirill.kouzoubov/\n",
    "\n",
    "#!aws s3 cp check-s3.ipynb s3://adias-prod-dc-data-projects/odc-hs/"
   ]
  },
  {
   "cell_type": "markdown",
   "id": "5d73a57e-2e4b-4e3a-9bcb-161126ddc44b",
   "metadata": {},
   "source": []
  },
  {
   "cell_type": "code",
   "execution_count": null,
   "id": "260419e9-a155-491c-a94d-70f17cbc826b",
   "metadata": {},
   "outputs": [],
   "source": []
  }
 ],
 "metadata": {
  "kernelspec": {
   "display_name": "Python 3 (ipykernel)",
   "language": "python",
   "name": "python3"
  },
  "language_info": {
   "codemirror_mode": {
    "name": "ipython",
    "version": 3
   },
   "file_extension": ".py",
   "mimetype": "text/x-python",
   "name": "python",
   "nbconvert_exporter": "python",
   "pygments_lexer": "ipython3",
   "version": "3.10.12"
  }
 },
 "nbformat": 4,
 "nbformat_minor": 5
}
