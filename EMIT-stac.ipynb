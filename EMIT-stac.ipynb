{
 "cells": [
  {
   "cell_type": "code",
   "execution_count": 1,
   "metadata": {
    "tags": []
   },
   "outputs": [],
   "source": [
    "%matplotlib inline\n",
    "import pystac_client\n",
    "import numpy as np\n",
    "from matplotlib import pyplot as plt\n",
    "import geopandas as gpd"
   ]
  },
  {
   "cell_type": "markdown",
   "metadata": {},
   "source": [
    "# Search the CMR STAC API\n",
    "\n",
    "This notebook uses the CMR STAC API to search for scenes with a bounding box.\n",
    "It's trivial to add a datetime range and other parameters to find scenes and\n",
    "plausible to merge multiple resulting datasets into a temporal stack."
   ]
  },
  {
   "cell_type": "code",
   "execution_count": 7,
   "metadata": {},
   "outputs": [
    {
     "name": "stdout",
     "output_type": "stream",
     "text": [
      "Found 3 items\n",
      "... fetching metadata\n",
      "... done\n"
     ]
    }
   ],
   "source": [
    "client = pystac_client.Client.open(\"https://cmr.earthdata.nasa.gov/cloudstac/LPCLOUD\")\n",
    "\n",
    "R = 0.1\n",
    "pt = (147, -36)\n",
    "bbox = [pt[0]-R, pt[1]-R, pt[0] +R, pt[1] + R]\n",
    "#bbox=[149.0, -35.5, 149.5, -35.0]\n",
    "\n",
    "# Search with a bbox over Canberra, Australia\n",
    "results = client.search(\n",
    "    collections=[\"EMITL2ARFL.v001\"], \n",
    "    #datetime=\"2023-01-01/2023-10-31\",\n",
    "    bbox = bbox,\n",
    ")\n",
    "\n",
    "print(f\"Found {results.matched()} items\")\n",
    "print(\"... fetching metadata\")\n",
    "items = list(results.items())\n",
    "print(\"... done\")"
   ]
  },
  {
   "cell_type": "code",
   "execution_count": 13,
   "metadata": {
    "tags": []
   },
   "outputs": [
    {
     "data": {
      "text/html": [
       "<img src=\"https://data.lpdaac.earthdatacloud.nasa.gov/lp-prod-public/EMITL2ARFL.001/EMIT_L2A_RFL_001_20230316T045133_2307503_005/EMIT_L2A_RFL_001_20230316T045133_2307503_005.png\"/>"
      ],
      "text/plain": [
       "<IPython.core.display.Image object>"
      ]
     },
     "execution_count": 13,
     "metadata": {},
     "output_type": "execute_result"
    }
   ],
   "source": [
    "from IPython.display import Image\n",
    "\n",
    "Image(url=items[0].assets['browse'].href)"
   ]
  },
  {
   "cell_type": "code",
   "execution_count": null,
   "metadata": {},
   "outputs": [],
   "source": []
  },
  {
   "cell_type": "code",
   "execution_count": 19,
   "metadata": {
    "tags": []
   },
   "outputs": [
    {
     "name": "stdout",
     "output_type": "stream",
     "text": [
      "s3://lp-prod-protected/EMITL2ARFL.001/EMIT_L2A_RFL_001_20230316T045133_2307503_005/EMIT_L2A_RFL_001_20230316T045133_2307503_005.nc\n",
      "s3://lp-prod-protected/EMITL2ARFL.001/EMIT_L2A_RFL_001_20230316T045133_2307503_005/EMIT_L2A_RFLUNCERT_001_20230316T045133_2307503_005.nc\n",
      "s3://lp-prod-protected/EMITL2ARFL.001/EMIT_L2A_RFL_001_20230316T045133_2307503_005/EMIT_L2A_MASK_001_20230316T045133_2307503_005.nc\n"
     ]
    }
   ],
   "source": [
    "item = items[0]\n",
    "\n",
    "uu = []\n",
    "\n",
    "for asset in item.assets.values():\n",
    "    s3_url = asset.href.replace(\"https://data.lpdaac.earthdatacloud.nasa.gov/\", \"s3://\")\n",
    "    if s3_url.startswith(\"s3://\") and s3_url.endswith(\".nc\"):\n",
    "        uu.append(s3_url)\n",
    "print(\"\\n\".join(uu))"
   ]
  },
  {
   "cell_type": "code",
   "execution_count": 4,
   "metadata": {
    "tags": []
   },
   "outputs": [],
   "source": [
    "def get_orbit(item):\n",
    "    if isinstance(item, str):\n",
    "        _id = item\n",
    "    else:\n",
    "        _id = item.id\n",
    "        \n",
    "    return int(_id.split('_')[-2])\n",
    "\n",
    "for item in items:\n",
    "    item.properties['orbit'] = get_orbit(item)\n",
    "    item.properties['label'] = item.id"
   ]
  },
  {
   "cell_type": "code",
   "execution_count": 6,
   "metadata": {
    "tags": []
   },
   "outputs": [
    {
     "data": {
      "text/html": [
       "<div style=\"width:100%;\"><div style=\"position:relative;width:100%;height:0;padding-bottom:60%;\"><span style=\"color:#565656\">Make this Notebook Trusted to load map: File -> Trust Notebook</span><iframe srcdoc=\"&lt;!DOCTYPE html&gt;\n",
       "&lt;html&gt;\n",
       "&lt;head&gt;\n",
       "    \n",
       "    &lt;meta http-equiv=&quot;content-type&quot; content=&quot;text/html; charset=UTF-8&quot; /&gt;\n",
       "    \n",
       "        &lt;script&gt;\n",
       "            L_NO_TOUCH = false;\n",
       "            L_DISABLE_3D = false;\n",
       "        &lt;/script&gt;\n",
       "    \n",
       "    &lt;style&gt;html, body {width: 100%;height: 100%;margin: 0;padding: 0;}&lt;/style&gt;\n",
       "    &lt;style&gt;#map {position:absolute;top:0;bottom:0;right:0;left:0;}&lt;/style&gt;\n",
       "    &lt;script src=&quot;https://cdn.jsdelivr.net/npm/leaflet@1.9.3/dist/leaflet.js&quot;&gt;&lt;/script&gt;\n",
       "    &lt;script src=&quot;https://code.jquery.com/jquery-1.12.4.min.js&quot;&gt;&lt;/script&gt;\n",
       "    &lt;script src=&quot;https://cdn.jsdelivr.net/npm/bootstrap@5.2.2/dist/js/bootstrap.bundle.min.js&quot;&gt;&lt;/script&gt;\n",
       "    &lt;script src=&quot;https://cdnjs.cloudflare.com/ajax/libs/Leaflet.awesome-markers/2.0.2/leaflet.awesome-markers.js&quot;&gt;&lt;/script&gt;\n",
       "    &lt;link rel=&quot;stylesheet&quot; href=&quot;https://cdn.jsdelivr.net/npm/leaflet@1.9.3/dist/leaflet.css&quot;/&gt;\n",
       "    &lt;link rel=&quot;stylesheet&quot; href=&quot;https://cdn.jsdelivr.net/npm/bootstrap@5.2.2/dist/css/bootstrap.min.css&quot;/&gt;\n",
       "    &lt;link rel=&quot;stylesheet&quot; href=&quot;https://netdna.bootstrapcdn.com/bootstrap/3.0.0/css/bootstrap.min.css&quot;/&gt;\n",
       "    &lt;link rel=&quot;stylesheet&quot; href=&quot;https://cdn.jsdelivr.net/npm/@fortawesome/fontawesome-free@6.2.0/css/all.min.css&quot;/&gt;\n",
       "    &lt;link rel=&quot;stylesheet&quot; href=&quot;https://cdnjs.cloudflare.com/ajax/libs/Leaflet.awesome-markers/2.0.2/leaflet.awesome-markers.css&quot;/&gt;\n",
       "    &lt;link rel=&quot;stylesheet&quot; href=&quot;https://cdn.jsdelivr.net/gh/python-visualization/folium/folium/templates/leaflet.awesome.rotate.min.css&quot;/&gt;\n",
       "    \n",
       "            &lt;meta name=&quot;viewport&quot; content=&quot;width=device-width,\n",
       "                initial-scale=1.0, maximum-scale=1.0, user-scalable=no&quot; /&gt;\n",
       "            &lt;style&gt;\n",
       "                #map_e0405975e31c2c6b3d20be7e1b1f884d {\n",
       "                    position: relative;\n",
       "                    width: 100.0%;\n",
       "                    height: 100.0%;\n",
       "                    left: 0.0%;\n",
       "                    top: 0.0%;\n",
       "                }\n",
       "                .leaflet-container { font-size: 1rem; }\n",
       "            &lt;/style&gt;\n",
       "        \n",
       "    \n",
       "                    &lt;style&gt;\n",
       "                        .foliumtooltip {\n",
       "                            \n",
       "                        }\n",
       "                       .foliumtooltip table{\n",
       "                            margin: auto;\n",
       "                        }\n",
       "                        .foliumtooltip tr{\n",
       "                            text-align: left;\n",
       "                        }\n",
       "                        .foliumtooltip th{\n",
       "                            padding: 2px; padding-right: 8px;\n",
       "                        }\n",
       "                    &lt;/style&gt;\n",
       "            \n",
       "&lt;/head&gt;\n",
       "&lt;body&gt;\n",
       "    \n",
       "    \n",
       "            &lt;div class=&quot;folium-map&quot; id=&quot;map_e0405975e31c2c6b3d20be7e1b1f884d&quot; &gt;&lt;/div&gt;\n",
       "        \n",
       "&lt;/body&gt;\n",
       "&lt;script&gt;\n",
       "    \n",
       "    \n",
       "            var map_e0405975e31c2c6b3d20be7e1b1f884d = L.map(\n",
       "                &quot;map_e0405975e31c2c6b3d20be7e1b1f884d&quot;,\n",
       "                {\n",
       "                    center: [-36.2966137, 147.3019867],\n",
       "                    crs: L.CRS.EPSG3857,\n",
       "                    zoom: 10,\n",
       "                    zoomControl: true,\n",
       "                    preferCanvas: false,\n",
       "                }\n",
       "            );\n",
       "            L.control.scale().addTo(map_e0405975e31c2c6b3d20be7e1b1f884d);\n",
       "\n",
       "            \n",
       "\n",
       "        \n",
       "    \n",
       "            var tile_layer_6925ddc05aa7666100379caccdda4472 = L.tileLayer(\n",
       "                &quot;https://{s}.tile.openstreetmap.org/{z}/{x}/{y}.png&quot;,\n",
       "                {&quot;attribution&quot;: &quot;Data by \\u0026copy; \\u003ca target=\\&quot;_blank\\&quot; href=\\&quot;http://openstreetmap.org\\&quot;\\u003eOpenStreetMap\\u003c/a\\u003e, under \\u003ca target=\\&quot;_blank\\&quot; href=\\&quot;http://www.openstreetmap.org/copyright\\&quot;\\u003eODbL\\u003c/a\\u003e.&quot;, &quot;detectRetina&quot;: false, &quot;maxNativeZoom&quot;: 18, &quot;maxZoom&quot;: 18, &quot;minZoom&quot;: 0, &quot;noWrap&quot;: false, &quot;opacity&quot;: 1, &quot;subdomains&quot;: &quot;abc&quot;, &quot;tms&quot;: false}\n",
       "            ).addTo(map_e0405975e31c2c6b3d20be7e1b1f884d);\n",
       "        \n",
       "    \n",
       "            map_e0405975e31c2c6b3d20be7e1b1f884d.fitBounds(\n",
       "                [[-37.1438751, 146.391861], [-35.4493523, 148.2121124]],\n",
       "                {}\n",
       "            );\n",
       "        \n",
       "    \n",
       "        function geo_json_85b02d11658bfde7d9a9308c79c081d5_styler(feature) {\n",
       "            switch(feature.id) {\n",
       "                default:\n",
       "                    return {&quot;fillOpacity&quot;: 0.5, &quot;weight&quot;: 2};\n",
       "            }\n",
       "        }\n",
       "        function geo_json_85b02d11658bfde7d9a9308c79c081d5_highlighter(feature) {\n",
       "            switch(feature.id) {\n",
       "                default:\n",
       "                    return {&quot;fillOpacity&quot;: 0.75};\n",
       "            }\n",
       "        }\n",
       "        function geo_json_85b02d11658bfde7d9a9308c79c081d5_pointToLayer(feature, latlng) {\n",
       "            var opts = {&quot;bubblingMouseEvents&quot;: true, &quot;color&quot;: &quot;#3388ff&quot;, &quot;dashArray&quot;: null, &quot;dashOffset&quot;: null, &quot;fill&quot;: true, &quot;fillColor&quot;: &quot;#3388ff&quot;, &quot;fillOpacity&quot;: 0.2, &quot;fillRule&quot;: &quot;evenodd&quot;, &quot;lineCap&quot;: &quot;round&quot;, &quot;lineJoin&quot;: &quot;round&quot;, &quot;opacity&quot;: 1.0, &quot;radius&quot;: 2, &quot;stroke&quot;: true, &quot;weight&quot;: 3};\n",
       "            \n",
       "            let style = geo_json_85b02d11658bfde7d9a9308c79c081d5_styler(feature)\n",
       "            Object.assign(opts, style)\n",
       "            \n",
       "            return new L.CircleMarker(latlng, opts)\n",
       "        }\n",
       "\n",
       "        function geo_json_85b02d11658bfde7d9a9308c79c081d5_onEachFeature(feature, layer) {\n",
       "            layer.on({\n",
       "                mouseout: function(e) {\n",
       "                    if(typeof e.target.setStyle === &quot;function&quot;){\n",
       "                        geo_json_85b02d11658bfde7d9a9308c79c081d5.resetStyle(e.target);\n",
       "                    }\n",
       "                },\n",
       "                mouseover: function(e) {\n",
       "                    if(typeof e.target.setStyle === &quot;function&quot;){\n",
       "                        const highlightStyle = geo_json_85b02d11658bfde7d9a9308c79c081d5_highlighter(e.target.feature)\n",
       "                        e.target.setStyle(highlightStyle);\n",
       "                    }\n",
       "                },\n",
       "            });\n",
       "        };\n",
       "        var geo_json_85b02d11658bfde7d9a9308c79c081d5 = L.geoJson(null, {\n",
       "                onEachFeature: geo_json_85b02d11658bfde7d9a9308c79c081d5_onEachFeature,\n",
       "            \n",
       "                style: geo_json_85b02d11658bfde7d9a9308c79c081d5_styler,\n",
       "                pointToLayer: geo_json_85b02d11658bfde7d9a9308c79c081d5_pointToLayer\n",
       "        });\n",
       "\n",
       "        function geo_json_85b02d11658bfde7d9a9308c79c081d5_add (data) {\n",
       "            geo_json_85b02d11658bfde7d9a9308c79c081d5\n",
       "                .addData(data)\n",
       "                .addTo(map_e0405975e31c2c6b3d20be7e1b1f884d);\n",
       "        }\n",
       "            geo_json_85b02d11658bfde7d9a9308c79c081d5_add({&quot;bbox&quot;: [146.391861, -37.1438751, 148.2121124, -35.4493523], &quot;features&quot;: [{&quot;bbox&quot;: [146.391861, -37.1438751, 148.1973419, -35.5216751], &quot;geometry&quot;: {&quot;coordinates&quot;: [[[147.7140045, -35.5216751], [146.391861, -36.4701004], [146.8751984, -37.1438751], [148.1973419, -36.1954498], [147.7140045, -35.5216751]]], &quot;type&quot;: &quot;Polygon&quot;}, &quot;id&quot;: &quot;0&quot;, &quot;properties&quot;: {&quot;datetime&quot;: &quot;2023-03-16T04:51:33Z&quot;, &quot;end_datetime&quot;: &quot;2023-03-16T04:51:53.000Z&quot;, &quot;eo:cloud_cover&quot;: 23, &quot;label&quot;: &quot;EMIT_L2A_RFL_001_20230316T045133_2307503_005&quot;, &quot;orbit&quot;: 2307503, &quot;start_datetime&quot;: &quot;2023-03-16T04:51:33.000Z&quot;}, &quot;type&quot;: &quot;Feature&quot;}, {&quot;bbox&quot;: [146.7414856, -36.7251854, 148.0624084, -35.4493523], &quot;geometry&quot;: {&quot;coordinates&quot;: [[[147.5752563, -35.4493523], [146.7414856, -36.0596046], [147.2286377, -36.7251854], [148.0624084, -36.114933], [147.5752563, -35.4493523]]], &quot;type&quot;: &quot;Polygon&quot;}, &quot;id&quot;: &quot;1&quot;, &quot;properties&quot;: {&quot;datetime&quot;: &quot;2023-09-15T04:25:26Z&quot;, &quot;end_datetime&quot;: &quot;2023-09-15T04:25:38.000Z&quot;, &quot;eo:cloud_cover&quot;: 63, &quot;label&quot;: &quot;EMIT_L2A_RFL_001_20230915T042526_2325802_004&quot;, &quot;orbit&quot;: 2325802, &quot;start_datetime&quot;: &quot;2023-09-15T04:25:26.000Z&quot;}, &quot;type&quot;: &quot;Feature&quot;}, {&quot;bbox&quot;: [146.8890533, -36.7810936, 148.2121124, -35.5025597], &quot;geometry&quot;: {&quot;coordinates&quot;: [[[147.7231293, -35.5025597], [146.8890533, -36.1130714], [147.3780365, -36.7810936], [148.2121124, -36.1705818], [147.7231293, -35.5025597]]], &quot;type&quot;: &quot;Polygon&quot;}, &quot;id&quot;: &quot;2&quot;, &quot;properties&quot;: {&quot;datetime&quot;: &quot;2023-09-19T02:51:11Z&quot;, &quot;end_datetime&quot;: &quot;2023-09-19T02:51:23.000Z&quot;, &quot;eo:cloud_cover&quot;: 8, &quot;label&quot;: &quot;EMIT_L2A_RFL_001_20230919T025111_2326201_004&quot;, &quot;orbit&quot;: 2326201, &quot;start_datetime&quot;: &quot;2023-09-19T02:51:11.000Z&quot;}, &quot;type&quot;: &quot;Feature&quot;}], &quot;type&quot;: &quot;FeatureCollection&quot;});\n",
       "\n",
       "        \n",
       "    \n",
       "    geo_json_85b02d11658bfde7d9a9308c79c081d5.bindTooltip(\n",
       "    function(layer){\n",
       "    let div = L.DomUtil.create(&#x27;div&#x27;);\n",
       "    \n",
       "    let handleObject = feature=&gt;typeof(feature)==&#x27;object&#x27; ? JSON.stringify(feature) : feature;\n",
       "    let fields = [&quot;orbit&quot;, &quot;datetime&quot;, &quot;label&quot;, &quot;eo:cloud_cover&quot;];\n",
       "    let aliases = [&quot;orbit&quot;, &quot;datetime&quot;, &quot;label&quot;, &quot;eo:cloud_cover&quot;];\n",
       "    let table = &#x27;&lt;table&gt;&#x27; +\n",
       "        String(\n",
       "        fields.map(\n",
       "        (v,i)=&gt;\n",
       "        `&lt;tr&gt;\n",
       "            &lt;th&gt;${aliases[i]}&lt;/th&gt;\n",
       "            \n",
       "            &lt;td&gt;${handleObject(layer.feature.properties[v])}&lt;/td&gt;\n",
       "        &lt;/tr&gt;`).join(&#x27;&#x27;))\n",
       "    +&#x27;&lt;/table&gt;&#x27;;\n",
       "    div.innerHTML=table;\n",
       "    \n",
       "    return div\n",
       "    }\n",
       "    ,{&quot;className&quot;: &quot;foliumtooltip&quot;, &quot;sticky&quot;: true});\n",
       "                     \n",
       "&lt;/script&gt;\n",
       "&lt;/html&gt;\" style=\"position:absolute;width:100%;height:100%;left:0;top:0;border:none !important;\" allowfullscreen webkitallowfullscreen mozallowfullscreen></iframe></div></div>"
      ],
      "text/plain": [
       "<folium.folium.Map at 0x7f0294c72920>"
      ]
     },
     "execution_count": 6,
     "metadata": {},
     "output_type": "execute_result"
    }
   ],
   "source": [
    "gdf = gpd.GeoDataFrame.from_features(items, \"epsg:4326\")\n",
    "\n",
    "#display(gdf.head())\n",
    "\n",
    "#_gdf = gdf[gdf.orbit == 2329804]\n",
    "\n",
    "gdf.explore(\n",
    "    tooltip=[\n",
    "        \"orbit\",\n",
    "        \"datetime\",\n",
    "        \"label\",\n",
    "        \"eo:cloud_cover\",\n",
    "    ],\n",
    ")"
   ]
  },
  {
   "cell_type": "markdown",
   "metadata": {},
   "source": [
    "----------------------------------------------"
   ]
  },
  {
   "cell_type": "code",
   "execution_count": null,
   "metadata": {
    "tags": []
   },
   "outputs": [],
   "source": [
    "# Albury, Lake Hume"
   ]
  }
 ],
 "metadata": {
  "kernelspec": {
   "display_name": "KK",
   "language": "python",
   "name": "kk"
  },
  "language_info": {
   "codemirror_mode": {
    "name": "ipython",
    "version": 3
   },
   "file_extension": ".py",
   "mimetype": "text/x-python",
   "name": "python",
   "nbconvert_exporter": "python",
   "pygments_lexer": "ipython3",
   "version": "3.10.12"
  }
 },
 "nbformat": 4,
 "nbformat_minor": 4
}
